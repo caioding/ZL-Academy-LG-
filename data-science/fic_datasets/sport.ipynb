{
 "cells": [
  {
   "cell_type": "code",
   "execution_count": 25,
   "metadata": {},
   "outputs": [],
   "source": [
    "import numpy as np\n",
    "import pandas as pd\n",
    "import matplotlib.pyplot as plt\n",
    "import seaborn as sns\n",
    "\n",
    "import warnings\n",
    "warnings.filterwarnings('ignore')"
   ]
  },
  {
   "cell_type": "code",
   "execution_count": 26,
   "metadata": {},
   "outputs": [],
   "source": [
    "#Obter os dados do csv athlete_eventes.csv\n",
    "sport_file = \"/home/caio/dxzl-academy/data-science/atv1-sport/athlete_events.csv\"\n",
    "sport_data = pd.read_csv(sport_file)"
   ]
  },
  {
   "cell_type": "code",
   "execution_count": 27,
   "metadata": {},
   "outputs": [
    {
     "data": {
      "text/html": [
       "<div>\n",
       "<style scoped>\n",
       "    .dataframe tbody tr th:only-of-type {\n",
       "        vertical-align: middle;\n",
       "    }\n",
       "\n",
       "    .dataframe tbody tr th {\n",
       "        vertical-align: top;\n",
       "    }\n",
       "\n",
       "    .dataframe thead th {\n",
       "        text-align: right;\n",
       "    }\n",
       "</style>\n",
       "<table border=\"1\" class=\"dataframe\">\n",
       "  <thead>\n",
       "    <tr style=\"text-align: right;\">\n",
       "      <th></th>\n",
       "      <th>ID</th>\n",
       "      <th>Name</th>\n",
       "      <th>Sex</th>\n",
       "      <th>Age</th>\n",
       "      <th>Height</th>\n",
       "      <th>Weight</th>\n",
       "      <th>Team</th>\n",
       "      <th>NOC</th>\n",
       "      <th>Games</th>\n",
       "      <th>Year</th>\n",
       "      <th>Season</th>\n",
       "      <th>City</th>\n",
       "      <th>Sport</th>\n",
       "      <th>Event</th>\n",
       "      <th>Medal</th>\n",
       "    </tr>\n",
       "  </thead>\n",
       "  <tbody>\n",
       "    <tr>\n",
       "      <th>0</th>\n",
       "      <td>1</td>\n",
       "      <td>A Dijiang</td>\n",
       "      <td>M</td>\n",
       "      <td>24.0</td>\n",
       "      <td>180.0</td>\n",
       "      <td>80.0</td>\n",
       "      <td>China</td>\n",
       "      <td>CHN</td>\n",
       "      <td>1992 Summer</td>\n",
       "      <td>1992</td>\n",
       "      <td>Summer</td>\n",
       "      <td>Barcelona</td>\n",
       "      <td>Basketball</td>\n",
       "      <td>Basketball Men's Basketball</td>\n",
       "      <td>NaN</td>\n",
       "    </tr>\n",
       "    <tr>\n",
       "      <th>1</th>\n",
       "      <td>2</td>\n",
       "      <td>A Lamusi</td>\n",
       "      <td>M</td>\n",
       "      <td>23.0</td>\n",
       "      <td>170.0</td>\n",
       "      <td>60.0</td>\n",
       "      <td>China</td>\n",
       "      <td>CHN</td>\n",
       "      <td>2012 Summer</td>\n",
       "      <td>2012</td>\n",
       "      <td>Summer</td>\n",
       "      <td>London</td>\n",
       "      <td>Judo</td>\n",
       "      <td>Judo Men's Extra-Lightweight</td>\n",
       "      <td>NaN</td>\n",
       "    </tr>\n",
       "    <tr>\n",
       "      <th>2</th>\n",
       "      <td>3</td>\n",
       "      <td>Gunnar Nielsen Aaby</td>\n",
       "      <td>M</td>\n",
       "      <td>24.0</td>\n",
       "      <td>NaN</td>\n",
       "      <td>NaN</td>\n",
       "      <td>Denmark</td>\n",
       "      <td>DEN</td>\n",
       "      <td>1920 Summer</td>\n",
       "      <td>1920</td>\n",
       "      <td>Summer</td>\n",
       "      <td>Antwerpen</td>\n",
       "      <td>Football</td>\n",
       "      <td>Football Men's Football</td>\n",
       "      <td>NaN</td>\n",
       "    </tr>\n",
       "    <tr>\n",
       "      <th>3</th>\n",
       "      <td>4</td>\n",
       "      <td>Edgar Lindenau Aabye</td>\n",
       "      <td>M</td>\n",
       "      <td>34.0</td>\n",
       "      <td>NaN</td>\n",
       "      <td>NaN</td>\n",
       "      <td>Denmark/Sweden</td>\n",
       "      <td>DEN</td>\n",
       "      <td>1900 Summer</td>\n",
       "      <td>1900</td>\n",
       "      <td>Summer</td>\n",
       "      <td>Paris</td>\n",
       "      <td>Tug-Of-War</td>\n",
       "      <td>Tug-Of-War Men's Tug-Of-War</td>\n",
       "      <td>Gold</td>\n",
       "    </tr>\n",
       "    <tr>\n",
       "      <th>4</th>\n",
       "      <td>5</td>\n",
       "      <td>Christine Jacoba Aaftink</td>\n",
       "      <td>F</td>\n",
       "      <td>21.0</td>\n",
       "      <td>185.0</td>\n",
       "      <td>82.0</td>\n",
       "      <td>Netherlands</td>\n",
       "      <td>NED</td>\n",
       "      <td>1988 Winter</td>\n",
       "      <td>1988</td>\n",
       "      <td>Winter</td>\n",
       "      <td>Calgary</td>\n",
       "      <td>Speed Skating</td>\n",
       "      <td>Speed Skating Women's 500 metres</td>\n",
       "      <td>NaN</td>\n",
       "    </tr>\n",
       "  </tbody>\n",
       "</table>\n",
       "</div>"
      ],
      "text/plain": [
       "   ID                      Name Sex   Age  Height  Weight            Team  \\\n",
       "0   1                 A Dijiang   M  24.0   180.0    80.0           China   \n",
       "1   2                  A Lamusi   M  23.0   170.0    60.0           China   \n",
       "2   3       Gunnar Nielsen Aaby   M  24.0     NaN     NaN         Denmark   \n",
       "3   4      Edgar Lindenau Aabye   M  34.0     NaN     NaN  Denmark/Sweden   \n",
       "4   5  Christine Jacoba Aaftink   F  21.0   185.0    82.0     Netherlands   \n",
       "\n",
       "   NOC        Games  Year  Season       City          Sport  \\\n",
       "0  CHN  1992 Summer  1992  Summer  Barcelona     Basketball   \n",
       "1  CHN  2012 Summer  2012  Summer     London           Judo   \n",
       "2  DEN  1920 Summer  1920  Summer  Antwerpen       Football   \n",
       "3  DEN  1900 Summer  1900  Summer      Paris     Tug-Of-War   \n",
       "4  NED  1988 Winter  1988  Winter    Calgary  Speed Skating   \n",
       "\n",
       "                              Event Medal  \n",
       "0       Basketball Men's Basketball   NaN  \n",
       "1      Judo Men's Extra-Lightweight   NaN  \n",
       "2           Football Men's Football   NaN  \n",
       "3       Tug-Of-War Men's Tug-Of-War  Gold  \n",
       "4  Speed Skating Women's 500 metres   NaN  "
      ]
     },
     "execution_count": 27,
     "metadata": {},
     "output_type": "execute_result"
    }
   ],
   "source": [
    "sport_data.head()"
   ]
  },
  {
   "cell_type": "code",
   "execution_count": 28,
   "metadata": {},
   "outputs": [
    {
     "name": "stdout",
     "output_type": "stream",
     "text": [
      "<class 'pandas.core.frame.DataFrame'>\n",
      "RangeIndex: 271116 entries, 0 to 271115\n",
      "Data columns (total 15 columns):\n",
      " #   Column  Non-Null Count   Dtype  \n",
      "---  ------  --------------   -----  \n",
      " 0   ID      271116 non-null  int64  \n",
      " 1   Name    271116 non-null  object \n",
      " 2   Sex     271116 non-null  object \n",
      " 3   Age     261642 non-null  float64\n",
      " 4   Height  210945 non-null  float64\n",
      " 5   Weight  208241 non-null  float64\n",
      " 6   Team    271116 non-null  object \n",
      " 7   NOC     271116 non-null  object \n",
      " 8   Games   271116 non-null  object \n",
      " 9   Year    271116 non-null  int64  \n",
      " 10  Season  271116 non-null  object \n",
      " 11  City    271116 non-null  object \n",
      " 12  Sport   271116 non-null  object \n",
      " 13  Event   271116 non-null  object \n",
      " 14  Medal   39783 non-null   object \n",
      "dtypes: float64(3), int64(2), object(10)\n",
      "memory usage: 31.0+ MB\n",
      "None\n"
     ]
    }
   ],
   "source": [
    "print(sport_data.info())"
   ]
  },
  {
   "cell_type": "code",
   "execution_count": 29,
   "metadata": {},
   "outputs": [
    {
     "data": {
      "image/png": "[encoded data removed]",
      "text/plain": [
       "<Figure size 1000x600 with 1 Axes>"
      ]
     },
     "metadata": {},
     "output_type": "display_data"
    }
   ],
   "source": [
    "# Filtrar os dados para incluir apenas jogadores de basquete\n",
    "basketball_players = sport_data[sport_data['Sport'] == 'Basketball']\n",
    "\n",
    "# Mostrar histograma baseado na altura dos jogadores de basquete\n",
    "plt.figure(figsize=(10, 6))\n",
    "plt.hist(basketball_players['Height'].dropna(), bins=30, edgecolor='k')\n",
    "plt.title('Histograma da Altura dos Jogadores de Basquete')\n",
    "plt.xlabel('Altura (cm)')\n",
    "plt.ylabel('Frequência')\n",
    "plt.show()"
   ]
  },
  {
   "cell_type": "code",
   "execution_count": 30,
   "metadata": {},
   "outputs": [
    {
     "data": {
      "image/png": "[encoded data removed]",
      "text/plain": [
       "<Figure size 1000x600 with 1 Axes>"
      ]
     },
     "metadata": {},
     "output_type": "display_data"
    }
   ],
   "source": [
    "# Filtrar os dados para incluir apenas jogadores de basquete do sexo masculino\n",
    "male_basketball_players = basketball_players[basketball_players['Sex'] == 'M']\n",
    "\n",
    "# Mostrar histograma baseado na altura dos jogadores de basquete do sexo masculino\n",
    "plt.figure(figsize=(10, 6))\n",
    "plt.hist(male_basketball_players['Height'].dropna(), bins=30, edgecolor='k')\n",
    "plt.title('Histograma da Altura dos Jogadores de Basquete do Sexo Masculino')\n",
    "plt.xlabel('Altura (cm)')\n",
    "plt.ylabel('Frequência')\n",
    "plt.show()"
   ]
  },
  {
   "cell_type": "code",
   "execution_count": 31,
   "metadata": {},
   "outputs": [],
   "source": [
    "# Obter dados do london.csv\n",
    "london_file = \"/home/caio/dxzl-academy/data-science/FIC_datasets/london.csv\"\n",
    "london_data = pd.read_csv(london_file)"
   ]
  },
  {
   "cell_type": "code",
   "execution_count": 32,
   "metadata": {},
   "outputs": [
    {
     "data": {
      "text/html": [
       "<div>\n",
       "<style scoped>\n",
       "    .dataframe tbody tr th:only-of-type {\n",
       "        vertical-align: middle;\n",
       "    }\n",
       "\n",
       "    .dataframe tbody tr th {\n",
       "        vertical-align: top;\n",
       "    }\n",
       "\n",
       "    .dataframe thead th {\n",
       "        text-align: right;\n",
       "    }\n",
       "</style>\n",
       "<table border=\"1\" class=\"dataframe\">\n",
       "  <thead>\n",
       "    <tr style=\"text-align: right;\">\n",
       "      <th></th>\n",
       "      <th>Total</th>\n",
       "      <th>Sport</th>\n",
       "      <th>Age</th>\n",
       "      <th>Height</th>\n",
       "      <th>Weight</th>\n",
       "      <th>Sex</th>\n",
       "    </tr>\n",
       "  </thead>\n",
       "  <tbody>\n",
       "    <tr>\n",
       "      <th>0</th>\n",
       "      <td>0</td>\n",
       "      <td>Judo</td>\n",
       "      <td>23</td>\n",
       "      <td>170.0</td>\n",
       "      <td>60.0</td>\n",
       "      <td>M</td>\n",
       "    </tr>\n",
       "    <tr>\n",
       "      <th>1</th>\n",
       "      <td>0</td>\n",
       "      <td>Athletics</td>\n",
       "      <td>33</td>\n",
       "      <td>193.0</td>\n",
       "      <td>125.0</td>\n",
       "      <td>M</td>\n",
       "    </tr>\n",
       "    <tr>\n",
       "      <th>2</th>\n",
       "      <td>0</td>\n",
       "      <td>Athletics</td>\n",
       "      <td>30</td>\n",
       "      <td>187.0</td>\n",
       "      <td>76.0</td>\n",
       "      <td>M</td>\n",
       "    </tr>\n",
       "    <tr>\n",
       "      <th>3</th>\n",
       "      <td>0</td>\n",
       "      <td>Boxing</td>\n",
       "      <td>24</td>\n",
       "      <td>NaN</td>\n",
       "      <td>NaN</td>\n",
       "      <td>M</td>\n",
       "    </tr>\n",
       "    <tr>\n",
       "      <th>4</th>\n",
       "      <td>0</td>\n",
       "      <td>Athletics</td>\n",
       "      <td>26</td>\n",
       "      <td>178.0</td>\n",
       "      <td>85.0</td>\n",
       "      <td>F</td>\n",
       "    </tr>\n",
       "    <tr>\n",
       "      <th>5</th>\n",
       "      <td>0</td>\n",
       "      <td>Handball</td>\n",
       "      <td>27</td>\n",
       "      <td>182.0</td>\n",
       "      <td>80.0</td>\n",
       "      <td>M</td>\n",
       "    </tr>\n",
       "    <tr>\n",
       "      <th>6</th>\n",
       "      <td>0</td>\n",
       "      <td>Rowing</td>\n",
       "      <td>30</td>\n",
       "      <td>182.0</td>\n",
       "      <td>73.0</td>\n",
       "      <td>F</td>\n",
       "    </tr>\n",
       "    <tr>\n",
       "      <th>7</th>\n",
       "      <td>0</td>\n",
       "      <td>Football</td>\n",
       "      <td>23</td>\n",
       "      <td>187.0</td>\n",
       "      <td>75.0</td>\n",
       "      <td>M</td>\n",
       "    </tr>\n",
       "    <tr>\n",
       "      <th>8</th>\n",
       "      <td>0</td>\n",
       "      <td>Athletics</td>\n",
       "      <td>27</td>\n",
       "      <td>190.0</td>\n",
       "      <td>80.0</td>\n",
       "      <td>M</td>\n",
       "    </tr>\n",
       "    <tr>\n",
       "      <th>9</th>\n",
       "      <td>0</td>\n",
       "      <td>Boxing</td>\n",
       "      <td>19</td>\n",
       "      <td>170.0</td>\n",
       "      <td>NaN</td>\n",
       "      <td>M</td>\n",
       "    </tr>\n",
       "  </tbody>\n",
       "</table>\n",
       "</div>"
      ],
      "text/plain": [
       "   Total      Sport  Age  Height  Weight Sex\n",
       "0      0       Judo   23   170.0    60.0   M\n",
       "1      0  Athletics   33   193.0   125.0   M\n",
       "2      0  Athletics   30   187.0    76.0   M\n",
       "3      0     Boxing   24     NaN     NaN   M\n",
       "4      0  Athletics   26   178.0    85.0   F\n",
       "5      0   Handball   27   182.0    80.0   M\n",
       "6      0     Rowing   30   182.0    73.0   F\n",
       "7      0   Football   23   187.0    75.0   M\n",
       "8      0  Athletics   27   190.0    80.0   M\n",
       "9      0     Boxing   19   170.0     NaN   M"
      ]
     },
     "execution_count": 32,
     "metadata": {},
     "output_type": "execute_result"
    }
   ],
   "source": [
    "london_data.head(10)"
   ]
  },
  {
   "cell_type": "code",
   "execution_count": 33,
   "metadata": {},
   "outputs": [
    {
     "data": {
      "text/html": [
       "<div>\n",
       "<style scoped>\n",
       "    .dataframe tbody tr th:only-of-type {\n",
       "        vertical-align: middle;\n",
       "    }\n",
       "\n",
       "    .dataframe tbody tr th {\n",
       "        vertical-align: top;\n",
       "    }\n",
       "\n",
       "    .dataframe thead th {\n",
       "        text-align: right;\n",
       "    }\n",
       "</style>\n",
       "<table border=\"1\" class=\"dataframe\">\n",
       "  <thead>\n",
       "    <tr style=\"text-align: right;\">\n",
       "      <th></th>\n",
       "      <th>Total</th>\n",
       "      <th>Sport</th>\n",
       "      <th>Age</th>\n",
       "      <th>Height</th>\n",
       "      <th>Weight</th>\n",
       "      <th>Sex</th>\n",
       "    </tr>\n",
       "  </thead>\n",
       "  <tbody>\n",
       "    <tr>\n",
       "      <th>10379</th>\n",
       "      <td>0</td>\n",
       "      <td>Athletics</td>\n",
       "      <td>24</td>\n",
       "      <td>171.0</td>\n",
       "      <td>87.0</td>\n",
       "      <td>F</td>\n",
       "    </tr>\n",
       "    <tr>\n",
       "      <th>10380</th>\n",
       "      <td>0</td>\n",
       "      <td>Athletics</td>\n",
       "      <td>28</td>\n",
       "      <td>172.0</td>\n",
       "      <td>56.0</td>\n",
       "      <td>F</td>\n",
       "    </tr>\n",
       "    <tr>\n",
       "      <th>10381</th>\n",
       "      <td>0</td>\n",
       "      <td>Handball</td>\n",
       "      <td>27</td>\n",
       "      <td>180.0</td>\n",
       "      <td>87.0</td>\n",
       "      <td>M</td>\n",
       "    </tr>\n",
       "    <tr>\n",
       "      <th>10382</th>\n",
       "      <td>0</td>\n",
       "      <td>Athletics</td>\n",
       "      <td>25</td>\n",
       "      <td>173.0</td>\n",
       "      <td>62.0</td>\n",
       "      <td>F</td>\n",
       "    </tr>\n",
       "    <tr>\n",
       "      <th>10383</th>\n",
       "      <td>0</td>\n",
       "      <td>Basketball</td>\n",
       "      <td>24</td>\n",
       "      <td>221.0</td>\n",
       "      <td>110.0</td>\n",
       "      <td>M</td>\n",
       "    </tr>\n",
       "  </tbody>\n",
       "</table>\n",
       "</div>"
      ],
      "text/plain": [
       "       Total       Sport  Age  Height  Weight Sex\n",
       "10379      0   Athletics   24   171.0    87.0   F\n",
       "10380      0   Athletics   28   172.0    56.0   F\n",
       "10381      0    Handball   27   180.0    87.0   M\n",
       "10382      0   Athletics   25   173.0    62.0   F\n",
       "10383      0  Basketball   24   221.0   110.0   M"
      ]
     },
     "execution_count": 33,
     "metadata": {},
     "output_type": "execute_result"
    }
   ],
   "source": [
    "london_data.tail()"
   ]
  },
  {
   "cell_type": "code",
   "execution_count": 34,
   "metadata": {},
   "outputs": [
    {
     "name": "stdout",
     "output_type": "stream",
     "text": [
      "<class 'pandas.core.frame.DataFrame'>\n",
      "RangeIndex: 10384 entries, 0 to 10383\n",
      "Data columns (total 6 columns):\n",
      " #   Column  Non-Null Count  Dtype  \n",
      "---  ------  --------------  -----  \n",
      " 0   Total   10384 non-null  int64  \n",
      " 1   Sport   10384 non-null  object \n",
      " 2   Age     10384 non-null  int64  \n",
      " 3   Height  9823 non-null   float64\n",
      " 4   Weight  9104 non-null   float64\n",
      " 5   Sex     10384 non-null  object \n",
      "dtypes: float64(2), int64(2), object(2)\n",
      "memory usage: 486.9+ KB\n",
      "None\n"
     ]
    }
   ],
   "source": [
    "print(london_data.info())"
   ]
  },
  {
   "cell_type": "code",
   "execution_count": 35,
   "metadata": {},
   "outputs": [
    {
     "name": "stdout",
     "output_type": "stream",
     "text": [
      "(10384, 6)\n"
     ]
    }
   ],
   "source": [
    "print(london_data.shape)"
   ]
  },
  {
   "cell_type": "code",
   "execution_count": 36,
   "metadata": {},
   "outputs": [
    {
     "name": "stdout",
     "output_type": "stream",
     "text": [
      "Index(['Total', 'Sport', 'Age', 'Height', 'Weight', 'Sex'], dtype='object')\n"
     ]
    }
   ],
   "source": [
    "print(london_data.columns)"
   ]
  },
  {
   "cell_type": "code",
   "execution_count": 37,
   "metadata": {},
   "outputs": [
    {
     "name": "stdout",
     "output_type": "stream",
     "text": [
      "Total       int64\n",
      "Sport      object\n",
      "Age         int64\n",
      "Height    float64\n",
      "Weight    float64\n",
      "Sex        object\n",
      "dtype: object\n"
     ]
    }
   ],
   "source": [
    "print(london_data.dtypes)"
   ]
  },
  {
   "cell_type": "code",
   "execution_count": 38,
   "metadata": {},
   "outputs": [
    {
     "name": "stdout",
     "output_type": "stream",
     "text": [
      "              Total           Age       Height       Weight\n",
      "count  10384.000000  10384.000000  9823.000000  9104.000000\n",
      "mean       0.052196     26.068856   176.907869    72.852812\n",
      "std        0.250149      5.440561    11.295433    16.067462\n",
      "min        0.000000     13.000000   132.000000    36.000000\n",
      "25%        0.000000     22.000000   169.000000    61.000000\n",
      "50%        0.000000     25.000000   177.000000    70.000000\n",
      "75%        0.000000     29.000000   185.000000    81.000000\n",
      "max        5.000000     71.000000   221.000000   218.000000\n"
     ]
    }
   ],
   "source": [
    "print(london_data.describe())"
   ]
  },
  {
   "cell_type": "code",
   "execution_count": 48,
   "metadata": {},
   "outputs": [
    {
     "data": {
      "text/html": [
       "<div>\n",
       "<style scoped>\n",
       "    .dataframe tbody tr th:only-of-type {\n",
       "        vertical-align: middle;\n",
       "    }\n",
       "\n",
       "    .dataframe tbody tr th {\n",
       "        vertical-align: top;\n",
       "    }\n",
       "\n",
       "    .dataframe thead th {\n",
       "        text-align: right;\n",
       "    }\n",
       "</style>\n",
       "<table border=\"1\" class=\"dataframe\">\n",
       "  <thead>\n",
       "    <tr style=\"text-align: right;\">\n",
       "      <th></th>\n",
       "      <th>Total</th>\n",
       "      <th>Sport</th>\n",
       "      <th>Age</th>\n",
       "      <th>Height</th>\n",
       "      <th>Weight</th>\n",
       "      <th>Sex</th>\n",
       "    </tr>\n",
       "  </thead>\n",
       "  <tbody>\n",
       "    <tr>\n",
       "      <th>908</th>\n",
       "      <td>0</td>\n",
       "      <td>Sailing</td>\n",
       "      <td>29</td>\n",
       "      <td>173.0</td>\n",
       "      <td>62.0</td>\n",
       "      <td>M</td>\n",
       "    </tr>\n",
       "    <tr>\n",
       "      <th>1726</th>\n",
       "      <td>0</td>\n",
       "      <td>Swimming</td>\n",
       "      <td>19</td>\n",
       "      <td>173.0</td>\n",
       "      <td>62.0</td>\n",
       "      <td>F</td>\n",
       "    </tr>\n",
       "    <tr>\n",
       "      <th>2046</th>\n",
       "      <td>0</td>\n",
       "      <td>Swimming</td>\n",
       "      <td>28</td>\n",
       "      <td>173.0</td>\n",
       "      <td>62.0</td>\n",
       "      <td>F</td>\n",
       "    </tr>\n",
       "    <tr>\n",
       "      <th>2418</th>\n",
       "      <td>0</td>\n",
       "      <td>Swimming</td>\n",
       "      <td>21</td>\n",
       "      <td>173.0</td>\n",
       "      <td>62.0</td>\n",
       "      <td>F</td>\n",
       "    </tr>\n",
       "    <tr>\n",
       "      <th>2710</th>\n",
       "      <td>0</td>\n",
       "      <td>Diving</td>\n",
       "      <td>23</td>\n",
       "      <td>173.0</td>\n",
       "      <td>62.0</td>\n",
       "      <td>M</td>\n",
       "    </tr>\n",
       "    <tr>\n",
       "      <th>4030</th>\n",
       "      <td>0</td>\n",
       "      <td>Cycling - Road</td>\n",
       "      <td>19</td>\n",
       "      <td>173.0</td>\n",
       "      <td>62.0</td>\n",
       "      <td>F</td>\n",
       "    </tr>\n",
       "    <tr>\n",
       "      <th>4131</th>\n",
       "      <td>0</td>\n",
       "      <td>Cycling - Road</td>\n",
       "      <td>30</td>\n",
       "      <td>173.0</td>\n",
       "      <td>62.0</td>\n",
       "      <td>M</td>\n",
       "    </tr>\n",
       "    <tr>\n",
       "      <th>4795</th>\n",
       "      <td>0</td>\n",
       "      <td>Equestrian</td>\n",
       "      <td>50</td>\n",
       "      <td>173.0</td>\n",
       "      <td>62.0</td>\n",
       "      <td>F</td>\n",
       "    </tr>\n",
       "    <tr>\n",
       "      <th>4954</th>\n",
       "      <td>0</td>\n",
       "      <td>Football</td>\n",
       "      <td>23</td>\n",
       "      <td>173.0</td>\n",
       "      <td>62.0</td>\n",
       "      <td>F</td>\n",
       "    </tr>\n",
       "    <tr>\n",
       "      <th>6288</th>\n",
       "      <td>0</td>\n",
       "      <td>Football</td>\n",
       "      <td>23</td>\n",
       "      <td>173.0</td>\n",
       "      <td>62.0</td>\n",
       "      <td>F</td>\n",
       "    </tr>\n",
       "    <tr>\n",
       "      <th>6731</th>\n",
       "      <td>0</td>\n",
       "      <td>Sailing</td>\n",
       "      <td>22</td>\n",
       "      <td>173.0</td>\n",
       "      <td>62.0</td>\n",
       "      <td>F</td>\n",
       "    </tr>\n",
       "    <tr>\n",
       "      <th>6927</th>\n",
       "      <td>0</td>\n",
       "      <td>Archery</td>\n",
       "      <td>25</td>\n",
       "      <td>173.0</td>\n",
       "      <td>62.0</td>\n",
       "      <td>F</td>\n",
       "    </tr>\n",
       "    <tr>\n",
       "      <th>7128</th>\n",
       "      <td>0</td>\n",
       "      <td>Athletics</td>\n",
       "      <td>30</td>\n",
       "      <td>173.0</td>\n",
       "      <td>62.0</td>\n",
       "      <td>M</td>\n",
       "    </tr>\n",
       "    <tr>\n",
       "      <th>7637</th>\n",
       "      <td>0</td>\n",
       "      <td>Athletics</td>\n",
       "      <td>25</td>\n",
       "      <td>173.0</td>\n",
       "      <td>62.0</td>\n",
       "      <td>F</td>\n",
       "    </tr>\n",
       "    <tr>\n",
       "      <th>7695</th>\n",
       "      <td>0</td>\n",
       "      <td>Athletics</td>\n",
       "      <td>27</td>\n",
       "      <td>173.0</td>\n",
       "      <td>62.0</td>\n",
       "      <td>F</td>\n",
       "    </tr>\n",
       "    <tr>\n",
       "      <th>8236</th>\n",
       "      <td>0</td>\n",
       "      <td>Canoe Sprint</td>\n",
       "      <td>27</td>\n",
       "      <td>173.0</td>\n",
       "      <td>62.0</td>\n",
       "      <td>F</td>\n",
       "    </tr>\n",
       "    <tr>\n",
       "      <th>9413</th>\n",
       "      <td>1</td>\n",
       "      <td>Cycling - Road</td>\n",
       "      <td>25</td>\n",
       "      <td>173.0</td>\n",
       "      <td>62.0</td>\n",
       "      <td>M</td>\n",
       "    </tr>\n",
       "    <tr>\n",
       "      <th>9612</th>\n",
       "      <td>0</td>\n",
       "      <td>Swimming</td>\n",
       "      <td>23</td>\n",
       "      <td>173.0</td>\n",
       "      <td>62.0</td>\n",
       "      <td>F</td>\n",
       "    </tr>\n",
       "    <tr>\n",
       "      <th>9804</th>\n",
       "      <td>0</td>\n",
       "      <td>Swimming</td>\n",
       "      <td>18</td>\n",
       "      <td>173.0</td>\n",
       "      <td>62.0</td>\n",
       "      <td>F</td>\n",
       "    </tr>\n",
       "    <tr>\n",
       "      <th>9919</th>\n",
       "      <td>0</td>\n",
       "      <td>Volleyball</td>\n",
       "      <td>30</td>\n",
       "      <td>173.0</td>\n",
       "      <td>62.0</td>\n",
       "      <td>F</td>\n",
       "    </tr>\n",
       "    <tr>\n",
       "      <th>10382</th>\n",
       "      <td>0</td>\n",
       "      <td>Athletics</td>\n",
       "      <td>25</td>\n",
       "      <td>173.0</td>\n",
       "      <td>62.0</td>\n",
       "      <td>F</td>\n",
       "    </tr>\n",
       "  </tbody>\n",
       "</table>\n",
       "</div>"
      ],
      "text/plain": [
       "       Total           Sport  Age  Height  Weight Sex\n",
       "908        0         Sailing   29   173.0    62.0   M\n",
       "1726       0        Swimming   19   173.0    62.0   F\n",
       "2046       0        Swimming   28   173.0    62.0   F\n",
       "2418       0        Swimming   21   173.0    62.0   F\n",
       "2710       0          Diving   23   173.0    62.0   M\n",
       "4030       0  Cycling - Road   19   173.0    62.0   F\n",
       "4131       0  Cycling - Road   30   173.0    62.0   M\n",
       "4795       0      Equestrian   50   173.0    62.0   F\n",
       "4954       0        Football   23   173.0    62.0   F\n",
       "6288       0        Football   23   173.0    62.0   F\n",
       "6731       0         Sailing   22   173.0    62.0   F\n",
       "6927       0         Archery   25   173.0    62.0   F\n",
       "7128       0       Athletics   30   173.0    62.0   M\n",
       "7637       0       Athletics   25   173.0    62.0   F\n",
       "7695       0       Athletics   27   173.0    62.0   F\n",
       "8236       0    Canoe Sprint   27   173.0    62.0   F\n",
       "9413       1  Cycling - Road   25   173.0    62.0   M\n",
       "9612       0        Swimming   23   173.0    62.0   F\n",
       "9804       0        Swimming   18   173.0    62.0   F\n",
       "9919       0      Volleyball   30   173.0    62.0   F\n",
       "10382      0       Athletics   25   173.0    62.0   F"
      ]
     },
     "execution_count": 48,
     "metadata": {},
     "output_type": "execute_result"
    }
   ],
   "source": [
    "london_data.query('Weight == 62.0 and Height == 173.0')"
   ]
  },
  {
   "cell_type": "code",
   "execution_count": 40,
   "metadata": {},
   "outputs": [
    {
     "data": {
      "text/plain": [
       "Text(0, 0.5, 'Frequência')"
      ]
     },
     "execution_count": 40,
     "metadata": {},
     "output_type": "execute_result"
    },
    {
     "data": {
      "image/png": "[encoded data removed]",
      "text/plain": [
       "<Figure size 1000x600 with 1 Axes>"
      ]
     },
     "metadata": {},
     "output_type": "display_data"
    }
   ],
   "source": [
    "# Filtrar dados para apenas jogadores de basquete\n",
    "basketball_players2 = london_data[london_data['Sport'] == 'Basketball']\n",
    "\n",
    "# Mostrar histograma baseado na altura dos jogadores de basquete\n",
    "plt.figure(figsize=(10, 6))\n",
    "plt.hist(basketball_players2['Height'].dropna(), bins=30, edgecolor='k')\n",
    "plt.title('Histograma da Altura dos Jogadores de Basquete')\n",
    "plt.xlabel('Altura (cm)')\n",
    "plt.ylabel('Frequência')"
   ]
  },
  {
   "cell_type": "code",
   "execution_count": 49,
   "metadata": {},
   "outputs": [
    {
     "data": {
      "text/plain": [
       "Text(0, 0.5, 'Frequência')"
      ]
     },
     "execution_count": 49,
     "metadata": {},
     "output_type": "execute_result"
    },
    {
     "data": {
      "image/png": "[encoded data removed]",
      "text/plain": [
       "<Figure size 1000x600 with 1 Axes>"
      ]
     },
     "metadata": {},
     "output_type": "display_data"
    }
   ],
   "source": [
    "# Filtrar para jogadores de basquete do sexo masculino\n",
    "male_basketball_players2 = basketball_players2[basketball_players2['Sex'] == 'M']\n",
    "\n",
    "# Mostrar histograma baseado na altura dos jogadores de basquete do sexo masculino\n",
    "plt.figure(figsize=(10, 6))\n",
    "plt.hist(male_basketball_players2['Height'].dropna(), bins=30, edgecolor='k')\n",
    "plt.title('Histograma da Altura dos Jogadores de Basquete do Sexo Masculino')\n",
    "plt.xlabel('Altura (cm)')   \n",
    "plt.ylabel('Frequência')"
   ]
  },
  {
   "cell_type": "code",
   "execution_count": 91,
   "metadata": {},
   "outputs": [
    {
     "data": {
      "text/plain": [
       "Height\n",
       "203.0    11\n",
       "206.0     9\n",
       "198.0     9\n",
       "208.0     8\n",
       "190.0     8\n",
       "Name: count, dtype: int64"
      ]
     },
     "execution_count": 91,
     "metadata": {},
     "output_type": "execute_result"
    }
   ],
   "source": [
    "# Filtrar a altura que mais se repete nos jogadores de basquete do sexo masculino\n",
    "male_basketball_players2['Height'].value_counts().head(5)\n"
   ]
  },
  {
   "cell_type": "code",
   "execution_count": 89,
   "metadata": {},
   "outputs": [
    {
     "name": "stdout",
     "output_type": "stream",
     "text": [
      "       Total       Sport  Age  Height  Weight Sex\n",
      "10383      0  Basketball   24   221.0   110.0   M\n",
      "5972       0  Basketball   26   216.0   110.0   M\n",
      "6339       0  Basketball   26   216.0   116.0   M\n",
      "1707       0  Basketball   29   216.0   109.0   M\n",
      "7530       0  Basketball   32   215.0   115.0   M\n",
      "9824       0  Basketball   33   215.0   110.0   M\n",
      "6467       0  Basketball   27   215.0   122.0   M\n",
      "9446       0  Basketball   20   213.0   111.0   M\n",
      "353        0  Basketball   32   212.0   102.0   M\n",
      "430        0  Basketball   32   212.0   115.0   M\n",
      "10143      0  Basketball   24   212.0   113.0   M\n",
      "3708       0  Basketball   29   211.0   125.0   M\n",
      "3031       0  Basketball   25   211.0   111.0   M\n",
      "4431       0  Basketball   27   211.0   114.0   M\n",
      "1114       0  Basketball   26   211.0   114.0   M\n",
      "596        0  Basketball   27   211.0   125.0   M\n",
      "8718       0  Basketball   27   210.0   117.0   M\n",
      "339        0  Basketball   24   210.0     NaN   M\n",
      "5151       0  Basketball   32   210.0   112.0   M\n",
      "1907       0  Basketball   23   210.0   109.0   M\n",
      "6697       0  Basketball   34   209.0    98.0   M\n",
      "338        0  Basketball   21   208.0     NaN   M\n",
      "9537       0  Basketball   29   208.0   115.0   M\n",
      "5444       0  Basketball   23   208.0   118.0   M\n",
      "4435       0  Basketball   27   208.0   114.0   M\n",
      "62         0  Basketball   29   208.0   110.0   M\n",
      "3879       0  Basketball   22   208.0   107.0   M\n",
      "644        0  Basketball   19   208.0   100.0   M\n",
      "867        0  Basketball   25   208.0   115.0   M\n",
      "1919       0  Basketball   23   207.0   107.0   M\n",
      "3546       0  Basketball   26   207.0   110.0   M\n",
      "9641       0  Basketball   28   207.0   102.0   M\n",
      "8242       0  Basketball   32   206.0   108.0   M\n",
      "4656       0  Basketball   31   206.0   103.0   M\n",
      "3883       0  Basketball   27   206.0     NaN   M\n",
      "6015       0  Basketball   28   206.0   111.0   M\n",
      "2545       0  Basketball   23   206.0   104.0   M\n",
      "9287       0  Basketball   27   206.0   114.0   M\n",
      "8310       0  Basketball   22   206.0   130.0   M\n",
      "8891       0  Basketball   26   206.0    95.0   M\n",
      "8654       0  Basketball   34   206.0   113.0   M\n",
      "784        0  Basketball   28   205.0    97.0   M\n",
      "4093       0  Basketball   28   205.0   107.0   M\n",
      "6253       0  Basketball   29   205.0    96.0   M\n",
      "8565       0  Basketball   31   204.0   100.0   M\n",
      "3937       0  Basketball   24   204.0    91.0   M\n",
      "948        0  Basketball   23   204.0   102.0   M\n",
      "2402       0  Basketball   22   204.0   100.0   M\n",
      "2408       0  Basketball   28   204.0     NaN   M\n",
      "3481       0  Basketball   28   204.0   112.0   M\n",
      "4368       0  Basketball   32   204.0   102.0   M\n"
     ]
    }
   ],
   "source": [
    "# Filtrar alturas maiores que 203.0 cm nos jogadores de basquete do sexo masculino\n",
    "tall_players = male_basketball_players2[male_basketball_players2['Height'] > 203.0].sort_values(by='Height', ascending=False)\n",
    "print(tall_players)"
   ]
  },
  {
   "cell_type": "code",
   "execution_count": null,
   "metadata": {},
   "outputs": [
    {
     "data": {
      "text/plain": [
       "Height\n",
       "221.0    1\n",
       "216.0    3\n",
       "215.0    3\n",
       "213.0    1\n",
       "212.0    3\n",
       "211.0    5\n",
       "210.0    4\n",
       "209.0    1\n",
       "208.0    8\n",
       "207.0    3\n",
       "206.0    9\n",
       "205.0    3\n",
       "204.0    7\n",
       "Name: count, dtype: int64"
      ]
     },
     "execution_count": 95,
     "metadata": {},
     "output_type": "execute_result"
    }
   ],
   "source": [
    "# Ver a frequência das alturas maiores que 203.0 cm em ordem decrescente pela altura\n",
    "tall_players['Height'].value_counts().sort_index(ascending=False)"
   ]
  },
  {
   "cell_type": "code",
   "execution_count": 96,
   "metadata": {},
   "outputs": [
    {
     "data": {
      "text/plain": [
       "Height\n",
       "206.0    9\n",
       "208.0    8\n",
       "204.0    7\n",
       "211.0    5\n",
       "210.0    4\n",
       "216.0    3\n",
       "215.0    3\n",
       "212.0    3\n",
       "207.0    3\n",
       "205.0    3\n",
       "221.0    1\n",
       "213.0    1\n",
       "209.0    1\n",
       "Name: count, dtype: int64"
      ]
     },
     "execution_count": 96,
     "metadata": {},
     "output_type": "execute_result"
    }
   ],
   "source": [
    "# Ver a frequência das alturas maiores que 203.0 cm em ordem decrescente pela frequencia\n",
    "tall_players['Height'].value_counts().sort_values(ascending=False)"
   ]
  }
 ],
 "metadata": {
  "kernelspec": {
   "display_name": "ds",
   "language": "python",
   "name": "python3"
  },
  "language_info": {
   "codemirror_mode": {
    "name": "ipython",
    "version": 3
   },
   "file_extension": ".py",
   "mimetype": "text/x-python",
   "name": "python",
   "nbconvert_exporter": "python",
   "pygments_lexer": "ipython3",
   "version": "3.9.20"
  }
 },
 "nbformat": 4,
 "nbformat_minor": 2
}
