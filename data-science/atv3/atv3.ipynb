{
 "cells": [
  {
   "cell_type": "code",
   "execution_count": 19,
   "metadata": {},
   "outputs": [],
   "source": [
    "import numpy as np\n",
    "import pandas as pd\n",
    "import matplotlib.pyplot as plt\n",
    "import seaborn as sns\n",
    "import os\n",
    "\n",
    "import warnings\n",
    "warnings.filterwarnings('ignore')"
   ]
  },
  {
   "cell_type": "code",
   "execution_count": 20,
   "metadata": {},
   "outputs": [],
   "source": [
    "import os\n",
    "import pandas as pd\n",
    "\n",
    "current_dir = os.getcwd()\n",
    "bank_file = os.path.join(current_dir, \"banklist.csv\")\n",
    "\n",
    "# Ler os dados do CSV com encoding especificado\n",
    "bank_data = pd.read_csv(bank_file, encoding='latin1')"
   ]
  },
  {
   "cell_type": "code",
   "execution_count": 21,
   "metadata": {},
   "outputs": [
    {
     "name": "stdout",
     "output_type": "stream",
     "text": [
      "              Cert           Fund\n",
      "count    570.000000    570.000000\n",
      "mean   31604.777193  10043.096491\n",
      "std    16490.726666   1109.862111\n",
      "min       91.000000   4645.000000\n",
      "25%    20087.250000  10118.250000\n",
      "50%    32085.500000  10260.500000\n",
      "75%    35368.000000  10402.750000\n",
      "max    59017.000000  10547.000000\n"
     ]
    }
   ],
   "source": [
    "# Análise explanatória\n",
    "print(bank_data.describe())"
   ]
  },
  {
   "cell_type": "code",
   "execution_count": 22,
   "metadata": {},
   "outputs": [
    {
     "name": "stdout",
     "output_type": "stream",
     "text": [
      "                              Bank Name           City  State   Cert   \\\n",
      "0         First National Bank of Lindsay        Lindsay     OK   4134   \n",
      "1  Republic First Bank dba Republic Bank   Philadelphia     PA  27332   \n",
      "2                          Citizens Bank       Sac City     IA   8758   \n",
      "3               Heartland Tri-State Bank        Elkhart     KS  25851   \n",
      "4                    First Republic Bank  San Francisco     CA  59017   \n",
      "\n",
      "              Acquiring Institution  Closing Date    Fund  \n",
      "0             First Bank & Trust Co.     18-Oct-24  10547  \n",
      "1  Fulton Bank, National Association     26-Apr-24  10546  \n",
      "2          Iowa Trust & Savings Bank      3-Nov-23  10545  \n",
      "3             Dream First Bank, N.A.     28-Jul-23  10544  \n",
      "4          JPMorgan Chase Bank, N.A.      1-May-23  10543  \n"
     ]
    }
   ],
   "source": [
    "# Análise exploratória\n",
    "print(bank_data.head())"
   ]
  },
  {
   "cell_type": "code",
   "execution_count": null,
   "metadata": {},
   "outputs": [
    {
     "ename": "NameError",
     "evalue": "name 'data' is not defined",
     "output_type": "error",
     "traceback": [
      "\u001b[0;31m---------------------------------------------------------------------------\u001b[0m",
      "\u001b[0;31mNameError\u001b[0m                                 Traceback (most recent call last)",
      "Cell \u001b[0;32mIn[23], line 3\u001b[0m\n\u001b[1;32m      1\u001b[0m \u001b[38;5;66;03m# Exemplo de criação de um gráfico\u001b[39;00m\n\u001b[1;32m      2\u001b[0m plt\u001b[38;5;241m.\u001b[39mfigure(figsize\u001b[38;5;241m=\u001b[39m(\u001b[38;5;241m10\u001b[39m, \u001b[38;5;241m6\u001b[39m))\n\u001b[0;32m----> 3\u001b[0m sns\u001b[38;5;241m.\u001b[39mhistplot(\u001b[43mdata\u001b[49m[\u001b[38;5;124m'\u001b[39m\u001b[38;5;124mcolumn_name\u001b[39m\u001b[38;5;124m'\u001b[39m], bins\u001b[38;5;241m=\u001b[39m\u001b[38;5;241m30\u001b[39m, kde\u001b[38;5;241m=\u001b[39m\u001b[38;5;28;01mTrue\u001b[39;00m)\n\u001b[1;32m      4\u001b[0m plt\u001b[38;5;241m.\u001b[39mtitle(\u001b[38;5;124m'\u001b[39m\u001b[38;5;124mHistograma de Exemplo\u001b[39m\u001b[38;5;124m'\u001b[39m)\n\u001b[1;32m      5\u001b[0m plt\u001b[38;5;241m.\u001b[39mxlabel(\u001b[38;5;124m'\u001b[39m\u001b[38;5;124mValor\u001b[39m\u001b[38;5;124m'\u001b[39m)\n",
      "\u001b[0;31mNameError\u001b[0m: name 'data' is not defined"
     ]
    },
    {
     "data": {
      "text/plain": [
       "<Figure size 1000x600 with 0 Axes>"
      ]
     },
     "metadata": {},
     "output_type": "display_data"
    }
   ],
   "source": [
    "# Exemplo de criação de um gráfico\n",
    "plt.figure(figsize=(10, 6))\n",
    "sns.histplot(bank_data['column_name'], bins=30, kde=True)\n",
    "plt.title('Histograma de Exemplo')\n",
    "plt.xlabel('Valor')\n",
    "plt.ylabel('Frequência')\n",
    "plt.show()"
   ]
  }
 ],
 "metadata": {
  "kernelspec": {
   "display_name": "ds",
   "language": "python",
   "name": "python3"
  },
  "language_info": {
   "codemirror_mode": {
    "name": "ipython",
    "version": 3
   },
   "file_extension": ".py",
   "mimetype": "text/x-python",
   "name": "python",
   "nbconvert_exporter": "python",
   "pygments_lexer": "ipython3",
   "version": "3.9.20"
  }
 },
 "nbformat": 4,
 "nbformat_minor": 2
}
