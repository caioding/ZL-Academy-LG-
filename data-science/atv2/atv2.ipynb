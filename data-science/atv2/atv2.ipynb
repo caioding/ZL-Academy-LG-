{
 "cells": [
  {
   "cell_type": "code",
   "execution_count": 1,
   "metadata": {},
   "outputs": [],
   "source": [
    "import numpy as np\n",
    "import pandas as pd\n",
    "import matplotlib.pyplot as plt\n",
    "import seaborn as sns\n",
    "import os\n",
    "\n",
    "import warnings\n",
    "warnings.filterwarnings('ignore')"
   ]
  },
  {
   "cell_type": "code",
   "execution_count": 2,
   "metadata": {},
   "outputs": [],
   "source": [
    "# Obter o caminho do diretório atual\n",
    "current_dir = os.getcwd()\n",
    "\n",
    "# Construir o caminho completo para o arquivo CSV\n",
    "dt1_file = os.path.join(current_dir, \"Real_Estate_Sales_2001-2022_GL.csv\")\n",
    "\n",
    "# Ler os dados do CSV\n",
    "dt1_data = pd.read_csv(dt1_file)"
   ]
  },
  {
   "cell_type": "code",
   "execution_count": 3,
   "metadata": {},
   "outputs": [
    {
     "name": "stdout",
     "output_type": "stream",
     "text": [
      "<class 'pandas.core.frame.DataFrame'>\n",
      "RangeIndex: 1097629 entries, 0 to 1097628\n",
      "Data columns (total 14 columns):\n",
      " #   Column            Non-Null Count    Dtype  \n",
      "---  ------            --------------    -----  \n",
      " 0   Serial Number     1097629 non-null  int64  \n",
      " 1   List Year         1097629 non-null  int64  \n",
      " 2   Date Recorded     1097627 non-null  object \n",
      " 3   Town              1097629 non-null  object \n",
      " 4   Address           1097578 non-null  object \n",
      " 5   Assessed Value    1097629 non-null  float64\n",
      " 6   Sale Amount       1097629 non-null  float64\n",
      " 7   Sales Ratio       1097629 non-null  float64\n",
      " 8   Property Type     715183 non-null   object \n",
      " 9   Residential Type  699240 non-null   object \n",
      " 10  Non Use Code      313451 non-null   object \n",
      " 11  Assessor Remarks  171228 non-null   object \n",
      " 12  OPM remarks       13031 non-null    object \n",
      " 13  Location          298111 non-null   object \n",
      "dtypes: float64(3), int64(2), object(9)\n",
      "memory usage: 117.2+ MB\n"
     ]
    }
   ],
   "source": [
    "dt1_data.info()"
   ]
  },
  {
   "cell_type": "code",
   "execution_count": 4,
   "metadata": {},
   "outputs": [
    {
     "data": {
      "text/plain": [
       "(1097629, 14)"
      ]
     },
     "execution_count": 4,
     "metadata": {},
     "output_type": "execute_result"
    }
   ],
   "source": [
    "dt1_data.shape"
   ]
  },
  {
   "cell_type": "code",
   "execution_count": 5,
   "metadata": {},
   "outputs": [
    {
     "data": {
      "text/html": [
       "<div>\n",
       "<style scoped>\n",
       "    .dataframe tbody tr th:only-of-type {\n",
       "        vertical-align: middle;\n",
       "    }\n",
       "\n",
       "    .dataframe tbody tr th {\n",
       "        vertical-align: top;\n",
       "    }\n",
       "\n",
       "    .dataframe thead th {\n",
       "        text-align: right;\n",
       "    }\n",
       "</style>\n",
       "<table border=\"1\" class=\"dataframe\">\n",
       "  <thead>\n",
       "    <tr style=\"text-align: right;\">\n",
       "      <th></th>\n",
       "      <th>Serial Number</th>\n",
       "      <th>List Year</th>\n",
       "      <th>Date Recorded</th>\n",
       "      <th>Town</th>\n",
       "      <th>Address</th>\n",
       "      <th>Assessed Value</th>\n",
       "      <th>Sale Amount</th>\n",
       "      <th>Sales Ratio</th>\n",
       "      <th>Property Type</th>\n",
       "      <th>Residential Type</th>\n",
       "      <th>Non Use Code</th>\n",
       "      <th>Assessor Remarks</th>\n",
       "      <th>OPM remarks</th>\n",
       "      <th>Location</th>\n",
       "    </tr>\n",
       "  </thead>\n",
       "  <tbody>\n",
       "    <tr>\n",
       "      <th>0</th>\n",
       "      <td>220008</td>\n",
       "      <td>2022</td>\n",
       "      <td>01/30/2023</td>\n",
       "      <td>Andover</td>\n",
       "      <td>618 ROUTE 6</td>\n",
       "      <td>139020.0</td>\n",
       "      <td>232000.0</td>\n",
       "      <td>0.5992</td>\n",
       "      <td>Residential</td>\n",
       "      <td>Single Family</td>\n",
       "      <td>NaN</td>\n",
       "      <td>NaN</td>\n",
       "      <td>NaN</td>\n",
       "      <td>POINT (-72.343628962 41.728431984)</td>\n",
       "    </tr>\n",
       "    <tr>\n",
       "      <th>1</th>\n",
       "      <td>2020348</td>\n",
       "      <td>2020</td>\n",
       "      <td>09/13/2021</td>\n",
       "      <td>Ansonia</td>\n",
       "      <td>230 WAKELEE AVE</td>\n",
       "      <td>150500.0</td>\n",
       "      <td>325000.0</td>\n",
       "      <td>0.4630</td>\n",
       "      <td>Commercial</td>\n",
       "      <td>NaN</td>\n",
       "      <td>NaN</td>\n",
       "      <td>NaN</td>\n",
       "      <td>NaN</td>\n",
       "      <td>NaN</td>\n",
       "    </tr>\n",
       "    <tr>\n",
       "      <th>2</th>\n",
       "      <td>20002</td>\n",
       "      <td>2020</td>\n",
       "      <td>10/02/2020</td>\n",
       "      <td>Ashford</td>\n",
       "      <td>390 TURNPIKE RD</td>\n",
       "      <td>253000.0</td>\n",
       "      <td>430000.0</td>\n",
       "      <td>0.5883</td>\n",
       "      <td>Residential</td>\n",
       "      <td>Single Family</td>\n",
       "      <td>NaN</td>\n",
       "      <td>NaN</td>\n",
       "      <td>NaN</td>\n",
       "      <td>NaN</td>\n",
       "    </tr>\n",
       "    <tr>\n",
       "      <th>3</th>\n",
       "      <td>210317</td>\n",
       "      <td>2021</td>\n",
       "      <td>07/05/2022</td>\n",
       "      <td>Avon</td>\n",
       "      <td>53 COTSWOLD WAY</td>\n",
       "      <td>329730.0</td>\n",
       "      <td>805000.0</td>\n",
       "      <td>0.4096</td>\n",
       "      <td>Residential</td>\n",
       "      <td>Single Family</td>\n",
       "      <td>NaN</td>\n",
       "      <td>NaN</td>\n",
       "      <td>NaN</td>\n",
       "      <td>POINT (-72.846365959 41.781677018)</td>\n",
       "    </tr>\n",
       "    <tr>\n",
       "      <th>4</th>\n",
       "      <td>200212</td>\n",
       "      <td>2020</td>\n",
       "      <td>03/09/2021</td>\n",
       "      <td>Avon</td>\n",
       "      <td>5 CHESTNUT DRIVE</td>\n",
       "      <td>130400.0</td>\n",
       "      <td>179900.0</td>\n",
       "      <td>0.7248</td>\n",
       "      <td>Residential</td>\n",
       "      <td>Condo</td>\n",
       "      <td>NaN</td>\n",
       "      <td>NaN</td>\n",
       "      <td>NaN</td>\n",
       "      <td>NaN</td>\n",
       "    </tr>\n",
       "  </tbody>\n",
       "</table>\n",
       "</div>"
      ],
      "text/plain": [
       "   Serial Number  List Year Date Recorded     Town           Address  \\\n",
       "0         220008       2022    01/30/2023  Andover       618 ROUTE 6   \n",
       "1        2020348       2020    09/13/2021  Ansonia   230 WAKELEE AVE   \n",
       "2          20002       2020    10/02/2020  Ashford   390 TURNPIKE RD   \n",
       "3         210317       2021    07/05/2022     Avon   53 COTSWOLD WAY   \n",
       "4         200212       2020    03/09/2021     Avon  5 CHESTNUT DRIVE   \n",
       "\n",
       "   Assessed Value  Sale Amount  Sales Ratio Property Type Residential Type  \\\n",
       "0        139020.0     232000.0       0.5992   Residential    Single Family   \n",
       "1        150500.0     325000.0       0.4630    Commercial              NaN   \n",
       "2        253000.0     430000.0       0.5883   Residential    Single Family   \n",
       "3        329730.0     805000.0       0.4096   Residential    Single Family   \n",
       "4        130400.0     179900.0       0.7248   Residential            Condo   \n",
       "\n",
       "  Non Use Code Assessor Remarks OPM remarks  \\\n",
       "0          NaN              NaN         NaN   \n",
       "1          NaN              NaN         NaN   \n",
       "2          NaN              NaN         NaN   \n",
       "3          NaN              NaN         NaN   \n",
       "4          NaN              NaN         NaN   \n",
       "\n",
       "                             Location  \n",
       "0  POINT (-72.343628962 41.728431984)  \n",
       "1                                 NaN  \n",
       "2                                 NaN  \n",
       "3  POINT (-72.846365959 41.781677018)  \n",
       "4                                 NaN  "
      ]
     },
     "execution_count": 5,
     "metadata": {},
     "output_type": "execute_result"
    }
   ],
   "source": [
    "dt1_data.head()"
   ]
  },
  {
   "cell_type": "code",
   "execution_count": 6,
   "metadata": {},
   "outputs": [],
   "source": [
    "# Limpeza inicial dos dados: Remover colunas com muitos valores ausentes e renomear colunas para facilitar a análise\n",
    "columns_to_drop = [\"Non Use Code\", \"Assessor Remarks\", \"OPM remarks\", \"Location\"]\n",
    "data_cleaned = dt1_data.drop(columns=columns_to_drop)"
   ]
  },
  {
   "cell_type": "code",
   "execution_count": 7,
   "metadata": {},
   "outputs": [
    {
     "name": "stdout",
     "output_type": "stream",
     "text": [
      "<class 'pandas.core.frame.DataFrame'>\n",
      "RangeIndex: 1097629 entries, 0 to 1097628\n",
      "Data columns (total 10 columns):\n",
      " #   Column            Non-Null Count    Dtype  \n",
      "---  ------            --------------    -----  \n",
      " 0   Serial Number     1097629 non-null  int64  \n",
      " 1   List Year         1097629 non-null  int64  \n",
      " 2   Date Recorded     1097627 non-null  object \n",
      " 3   Town              1097629 non-null  object \n",
      " 4   Address           1097578 non-null  object \n",
      " 5   Assessed Value    1097629 non-null  float64\n",
      " 6   Sale Amount       1097629 non-null  float64\n",
      " 7   Sales Ratio       1097629 non-null  float64\n",
      " 8   Property Type     715183 non-null   object \n",
      " 9   Residential Type  699240 non-null   object \n",
      "dtypes: float64(3), int64(2), object(5)\n",
      "memory usage: 83.7+ MB\n"
     ]
    }
   ],
   "source": [
    "data_cleaned.info()"
   ]
  },
  {
   "cell_type": "code",
   "execution_count": 8,
   "metadata": {},
   "outputs": [],
   "source": [
    "# Renomeando colunas para padronizar e facilitar o trabalho\n",
    "data_cleaned.rename(columns={\n",
    "    \"Serial Number\": \"Serial_Number\",\n",
    "    \"List Year\": \"List_Year\",\n",
    "    \"Date Recorded\": \"Date_Recorded\",\n",
    "    \"Assessed Value\": \"Assessed_Value\",\n",
    "    \"Sale Amount\": \"Sale_Amount\",\n",
    "    \"Sales Ratio\": \"Sales_Ratio\",\n",
    "    \"Property Type\": \"Property_Type\",\n",
    "    \"Residential Type\": \"Residential_Type\"\n",
    "}, inplace=True)"
   ]
  },
  {
   "cell_type": "code",
   "execution_count": 9,
   "metadata": {},
   "outputs": [
    {
     "name": "stdout",
     "output_type": "stream",
     "text": [
      "<class 'pandas.core.frame.DataFrame'>\n",
      "RangeIndex: 1097629 entries, 0 to 1097628\n",
      "Data columns (total 10 columns):\n",
      " #   Column            Non-Null Count    Dtype  \n",
      "---  ------            --------------    -----  \n",
      " 0   Serial_Number     1097629 non-null  int64  \n",
      " 1   List_Year         1097629 non-null  int64  \n",
      " 2   Date_Recorded     1097627 non-null  object \n",
      " 3   Town              1097629 non-null  object \n",
      " 4   Address           1097578 non-null  object \n",
      " 5   Assessed_Value    1097629 non-null  float64\n",
      " 6   Sale_Amount       1097629 non-null  float64\n",
      " 7   Sales_Ratio       1097629 non-null  float64\n",
      " 8   Property_Type     715183 non-null   object \n",
      " 9   Residential_Type  699240 non-null   object \n",
      "dtypes: float64(3), int64(2), object(5)\n",
      "memory usage: 83.7+ MB\n"
     ]
    }
   ],
   "source": [
    "data_cleaned.info()"
   ]
  },
  {
   "cell_type": "code",
   "execution_count": 10,
   "metadata": {},
   "outputs": [
    {
     "name": "stdout",
     "output_type": "stream",
     "text": [
      "Serial_Number            0\n",
      "List_Year                0\n",
      "Date_Recorded            2\n",
      "Town                     0\n",
      "Address                 51\n",
      "Assessed_Value           0\n",
      "Sale_Amount              0\n",
      "Sales_Ratio              0\n",
      "Property_Type       382446\n",
      "Residential_Type    398389\n",
      "dtype: int64\n"
     ]
    }
   ],
   "source": [
    "# Verificar valores nulos nas colunas principais\n",
    "missing_data = data_cleaned.isnull().sum()\n",
    "print(missing_data)"
   ]
  },
  {
   "cell_type": "code",
   "execution_count": 11,
   "metadata": {},
   "outputs": [
    {
     "data": {
      "text/plain": [
       "(   Serial_Number  List_Year Date_Recorded     Town           Address  \\\n",
       " 0         220008       2022    01/30/2023  Andover       618 ROUTE 6   \n",
       " 1        2020348       2020    09/13/2021  Ansonia   230 WAKELEE AVE   \n",
       " 2          20002       2020    10/02/2020  Ashford   390 TURNPIKE RD   \n",
       " 3         210317       2021    07/05/2022     Avon   53 COTSWOLD WAY   \n",
       " 4         200212       2020    03/09/2021     Avon  5 CHESTNUT DRIVE   \n",
       " \n",
       "    Assessed_Value  Sale_Amount  Sales_Ratio Property_Type Residential_Type  \n",
       " 0        139020.0     232000.0       0.5992   Residential    Single Family  \n",
       " 1        150500.0     325000.0       0.4630    Commercial              NaN  \n",
       " 2        253000.0     430000.0       0.5883   Residential    Single Family  \n",
       " 3        329730.0     805000.0       0.4096   Residential    Single Family  \n",
       " 4        130400.0     179900.0       0.7248   Residential            Condo  ,\n",
       " Serial_Number            0\n",
       " List_Year                0\n",
       " Date_Recorded            2\n",
       " Town                     0\n",
       " Address                 51\n",
       " Assessed_Value           0\n",
       " Sale_Amount              0\n",
       " Sales_Ratio              0\n",
       " Property_Type       382446\n",
       " Residential_Type    398389\n",
       " dtype: int64)"
      ]
     },
     "execution_count": 11,
     "metadata": {},
     "output_type": "execute_result"
    }
   ],
   "source": [
    "# Exibir amostra dos dados limpos e estatísticas de valores ausentes\n",
    "data_cleaned.head(), missing_data"
   ]
  },
  {
   "cell_type": "code",
   "execution_count": 12,
   "metadata": {},
   "outputs": [
    {
     "name": "stdout",
     "output_type": "stream",
     "text": [
      "<class 'pandas.core.frame.DataFrame'>\n",
      "RangeIndex: 1097629 entries, 0 to 1097628\n",
      "Data columns (total 14 columns):\n",
      " #   Column            Non-Null Count    Dtype  \n",
      "---  ------            --------------    -----  \n",
      " 0   Serial Number     1097629 non-null  int64  \n",
      " 1   List Year         1097629 non-null  int64  \n",
      " 2   Date Recorded     1097627 non-null  object \n",
      " 3   Town              1097629 non-null  object \n",
      " 4   Address           1097578 non-null  object \n",
      " 5   Assessed Value    1097629 non-null  float64\n",
      " 6   Sale Amount       1097629 non-null  float64\n",
      " 7   Sales Ratio       1097629 non-null  float64\n",
      " 8   Property Type     715183 non-null   object \n",
      " 9   Residential Type  699240 non-null   object \n",
      " 10  Non Use Code      313451 non-null   object \n",
      " 11  Assessor Remarks  171228 non-null   object \n",
      " 12  OPM remarks       13031 non-null    object \n",
      " 13  Location          298111 non-null   object \n",
      "dtypes: float64(3), int64(2), object(9)\n",
      "memory usage: 117.2+ MB\n"
     ]
    }
   ],
   "source": [
    "# Verificando se os dados estão realmente limpos\n",
    "dt1_data.info()"
   ]
  },
  {
   "cell_type": "code",
   "execution_count": 13,
   "metadata": {},
   "outputs": [
    {
     "name": "stdout",
     "output_type": "stream",
     "text": [
      "<class 'pandas.core.frame.DataFrame'>\n",
      "RangeIndex: 1097629 entries, 0 to 1097628\n",
      "Data columns (total 10 columns):\n",
      " #   Column            Non-Null Count    Dtype  \n",
      "---  ------            --------------    -----  \n",
      " 0   Serial_Number     1097629 non-null  int64  \n",
      " 1   List_Year         1097629 non-null  int64  \n",
      " 2   Date_Recorded     1097627 non-null  object \n",
      " 3   Town              1097629 non-null  object \n",
      " 4   Address           1097578 non-null  object \n",
      " 5   Assessed_Value    1097629 non-null  float64\n",
      " 6   Sale_Amount       1097629 non-null  float64\n",
      " 7   Sales_Ratio       1097629 non-null  float64\n",
      " 8   Property_Type     715183 non-null   object \n",
      " 9   Residential_Type  699240 non-null   object \n",
      "dtypes: float64(3), int64(2), object(5)\n",
      "memory usage: 83.7+ MB\n"
     ]
    }
   ],
   "source": [
    "# Verificando se os dados estão realmente limpos\n",
    "data_cleaned.info()"
   ]
  },
  {
   "cell_type": "code",
   "execution_count": 14,
   "metadata": {},
   "outputs": [],
   "source": [
    "# Atualizando o arquivo CSV com a limpeza de dados\n",
    "data_cleaned.to_csv('Real_Estate_Sales_2001-2022_GL.csv.', \n",
    "          index=False,           # Não salvar o índice\n",
    "          sep=',',               # Separador de colunas (padrão é vírgula)\n",
    "          encoding='utf-8')      # Especificar a codificação"
   ]
  },
  {
   "cell_type": "code",
   "execution_count": 15,
   "metadata": {},
   "outputs": [
    {
     "data": {
      "text/html": [
       "<div>\n",
       "<style scoped>\n",
       "    .dataframe tbody tr th:only-of-type {\n",
       "        vertical-align: middle;\n",
       "    }\n",
       "\n",
       "    .dataframe tbody tr th {\n",
       "        vertical-align: top;\n",
       "    }\n",
       "\n",
       "    .dataframe thead th {\n",
       "        text-align: right;\n",
       "    }\n",
       "</style>\n",
       "<table border=\"1\" class=\"dataframe\">\n",
       "  <thead>\n",
       "    <tr style=\"text-align: right;\">\n",
       "      <th></th>\n",
       "      <th>Serial_Number</th>\n",
       "      <th>List_Year</th>\n",
       "      <th>Assessed_Value</th>\n",
       "      <th>Sale_Amount</th>\n",
       "      <th>Sales_Ratio</th>\n",
       "    </tr>\n",
       "  </thead>\n",
       "  <tbody>\n",
       "    <tr>\n",
       "      <th>count</th>\n",
       "      <td>1.097629e+06</td>\n",
       "      <td>1.097629e+06</td>\n",
       "      <td>1.097629e+06</td>\n",
       "      <td>1.097629e+06</td>\n",
       "      <td>1.097629e+06</td>\n",
       "    </tr>\n",
       "    <tr>\n",
       "      <th>mean</th>\n",
       "      <td>5.370357e+05</td>\n",
       "      <td>2.011218e+03</td>\n",
       "      <td>2.818016e+05</td>\n",
       "      <td>4.053146e+05</td>\n",
       "      <td>9.603926e+00</td>\n",
       "    </tr>\n",
       "    <tr>\n",
       "      <th>std</th>\n",
       "      <td>7.526074e+06</td>\n",
       "      <td>6.773485e+00</td>\n",
       "      <td>1.657890e+06</td>\n",
       "      <td>5.143492e+06</td>\n",
       "      <td>1.801664e+03</td>\n",
       "    </tr>\n",
       "    <tr>\n",
       "      <th>min</th>\n",
       "      <td>0.000000e+00</td>\n",
       "      <td>2.001000e+03</td>\n",
       "      <td>0.000000e+00</td>\n",
       "      <td>0.000000e+00</td>\n",
       "      <td>0.000000e+00</td>\n",
       "    </tr>\n",
       "    <tr>\n",
       "      <th>25%</th>\n",
       "      <td>3.071300e+04</td>\n",
       "      <td>2.005000e+03</td>\n",
       "      <td>8.909000e+04</td>\n",
       "      <td>1.450000e+05</td>\n",
       "      <td>4.778667e-01</td>\n",
       "    </tr>\n",
       "    <tr>\n",
       "      <th>50%</th>\n",
       "      <td>8.070600e+04</td>\n",
       "      <td>2.011000e+03</td>\n",
       "      <td>1.405800e+05</td>\n",
       "      <td>2.330000e+05</td>\n",
       "      <td>6.105663e-01</td>\n",
       "    </tr>\n",
       "    <tr>\n",
       "      <th>75%</th>\n",
       "      <td>1.703410e+05</td>\n",
       "      <td>2.018000e+03</td>\n",
       "      <td>2.282700e+05</td>\n",
       "      <td>3.750000e+05</td>\n",
       "      <td>7.707200e-01</td>\n",
       "    </tr>\n",
       "    <tr>\n",
       "      <th>max</th>\n",
       "      <td>2.000500e+09</td>\n",
       "      <td>2.022000e+03</td>\n",
       "      <td>8.815100e+08</td>\n",
       "      <td>5.000000e+09</td>\n",
       "      <td>1.226420e+06</td>\n",
       "    </tr>\n",
       "  </tbody>\n",
       "</table>\n",
       "</div>"
      ],
      "text/plain": [
       "       Serial_Number     List_Year  Assessed_Value   Sale_Amount   Sales_Ratio\n",
       "count   1.097629e+06  1.097629e+06    1.097629e+06  1.097629e+06  1.097629e+06\n",
       "mean    5.370357e+05  2.011218e+03    2.818016e+05  4.053146e+05  9.603926e+00\n",
       "std     7.526074e+06  6.773485e+00    1.657890e+06  5.143492e+06  1.801664e+03\n",
       "min     0.000000e+00  2.001000e+03    0.000000e+00  0.000000e+00  0.000000e+00\n",
       "25%     3.071300e+04  2.005000e+03    8.909000e+04  1.450000e+05  4.778667e-01\n",
       "50%     8.070600e+04  2.011000e+03    1.405800e+05  2.330000e+05  6.105663e-01\n",
       "75%     1.703410e+05  2.018000e+03    2.282700e+05  3.750000e+05  7.707200e-01\n",
       "max     2.000500e+09  2.022000e+03    8.815100e+08  5.000000e+09  1.226420e+06"
      ]
     },
     "execution_count": 15,
     "metadata": {},
     "output_type": "execute_result"
    }
   ],
   "source": [
    "data_cleaned.describe()"
   ]
  },
  {
   "cell_type": "code",
   "execution_count": 81,
   "metadata": {},
   "outputs": [
    {
     "name": "stdout",
     "output_type": "stream",
     "text": [
      "Media dos valores avaliados:  281801.57861719216\n",
      "O valor médio de venda:  405314.55976191396\n",
      "A proporção de venda:  9.60392605270479\n"
     ]
    }
   ],
   "source": [
    "media_valores_avaliados = data_cleaned['Assessed_Value'].mean()\n",
    "print(\"Media dos valores avaliados: \", media_valores_avaliados)\n",
    "media_valor_venda = data_cleaned['Sale_Amount'].mean()\n",
    "print(\"O valor médio de venda: \", media_valor_venda)\n",
    "media_proporcao_vendas = data_cleaned['Sales_Ratio'].mean()\n",
    "print(\"A proporção de venda: \", media_proporcao_vendas)"
   ]
  },
  {
   "cell_type": "code",
   "execution_count": 86,
   "metadata": {},
   "outputs": [
    {
     "name": "stdout",
     "output_type": "stream",
     "text": [
      "Media dos valores avaliados: R$281,801.58\n",
      "O valor médio de venda: R$405,314.56\n",
      "A proporção de vendas: 0.61\n"
     ]
    }
   ],
   "source": [
    "media_valores_avaliados = data_cleaned['Assessed_Value'].mean()\n",
    "print(\"Media dos valores avaliados: R${:,.2f}\".format(media_valores_avaliados))\n",
    "media_valor_venda = data_cleaned['Sale_Amount'].mean()\n",
    "print(\"O valor médio de venda: R${:,.2f}\".format(media_valor_venda))\n",
    "media_proporcao_vendas = data_cleaned['Sales_Ratio'].median()\n",
    "print(\"A proporção de vendas: {:.2f}\".format(media_proporcao_vendas))"
   ]
  },
  {
   "cell_type": "code",
   "execution_count": 87,
   "metadata": {},
   "outputs": [],
   "source": [
    "# Perguntas:\n",
    "# Qual é a tendência anual no número de vendas?\n",
    "# Quais cidades têm os maiores valores médios de venda?\n",
    "# Como os valores de venda variam por tipo de propriedade?\n",
    "# Qual é a relação entre valores avaliados e de venda ao longo do tempo?\n",
    "# Quais os tipos de residência mais frequentes nas vendas?"
   ]
  },
  {
   "cell_type": "code",
   "execution_count": 88,
   "metadata": {},
   "outputs": [],
   "source": [
    "# Tratar valores ausentes: preencher 'Property_Type' e 'Residential_Type' com \"Desconhecido\"\n",
    "data_cleaned[\"Property_Type\"].fillna(\"Desconhecido\", inplace=True)\n",
    "data_cleaned[\"Residential_Type\"].fillna(\"Desconhecido\", inplace=True)"
   ]
  },
  {
   "cell_type": "code",
   "execution_count": 100,
   "metadata": {},
   "outputs": [
    {
     "data": {
      "text/plain": [
       "Property_Type\n",
       "Single Family     401612\n",
       "Desconhecido      382446\n",
       "Residential       151064\n",
       "Condo             105420\n",
       "Two Family         26408\n",
       "Three Family       12586\n",
       "Vacant Land         7824\n",
       "Commercial          5987\n",
       "Four Family         2150\n",
       "Apartments          1327\n",
       "Industrial           795\n",
       "Public Utility        10\n",
       "Name: count, dtype: int64"
      ]
     },
     "execution_count": 100,
     "metadata": {},
     "output_type": "execute_result"
    }
   ],
   "source": [
    "# Mostrar os valores desconhecidos e sua quantidade total\n",
    "data_cleaned[\"Property_Type\"].value_counts()"
   ]
  },
  {
   "cell_type": "code",
   "execution_count": 101,
   "metadata": {},
   "outputs": [
    {
     "data": {
      "text/plain": [
       "Residential_Type\n",
       "Single Family    508044\n",
       "Desconhecido     398389\n",
       "Condo            136822\n",
       "Two Family        34848\n",
       "Three Family      16567\n",
       "Four Family        2959\n",
       "Name: count, dtype: int64"
      ]
     },
     "execution_count": 101,
     "metadata": {},
     "output_type": "execute_result"
    }
   ],
   "source": [
    "# Mostrar os valores desconhecidos e sua quantidade total\n",
    "data_cleaned[\"Residential_Type\"].value_counts()"
   ]
  },
  {
   "cell_type": "code",
   "execution_count": 111,
   "metadata": {},
   "outputs": [
    {
     "data": {
      "text/plain": [
       "Serial_Number       0\n",
       "List_Year           0\n",
       "Date_Recorded       0\n",
       "Town                0\n",
       "Address             0\n",
       "Assessed_Value      0\n",
       "Sale_Amount         0\n",
       "Sales_Ratio         0\n",
       "Property_Type       0\n",
       "Residential_Type    0\n",
       "dtype: int64"
      ]
     },
     "execution_count": 111,
     "metadata": {},
     "output_type": "execute_result"
    }
   ],
   "source": [
    "# Remover registros com valores ausentes em colunas críticas\n",
    "data_cleaned.dropna(subset=[\"Date_Recorded\", \"Address\"], inplace=True)\n",
    "data_cleaned.isnull().sum ()"
   ]
  },
  {
   "cell_type": "code",
   "execution_count": 112,
   "metadata": {},
   "outputs": [
    {
     "data": {
      "text/plain": [
       "Serial_Number       0\n",
       "List_Year           0\n",
       "Date_Recorded       0\n",
       "Town                0\n",
       "Address             0\n",
       "Assessed_Value      0\n",
       "Sale_Amount         0\n",
       "Sales_Ratio         0\n",
       "Property_Type       0\n",
       "Residential_Type    0\n",
       "dtype: int64"
      ]
     },
     "execution_count": 112,
     "metadata": {},
     "output_type": "execute_result"
    }
   ],
   "source": [
    "# Confirmar que os dados estão prontos para análise\n",
    "missing_data_after_cleaning = data_cleaned.isnull().sum()\n",
    "missing_data_after_cleaning"
   ]
  },
  {
   "cell_type": "code",
   "execution_count": 119,
   "metadata": {},
   "outputs": [
    {
     "data": {
      "text/plain": [
       "(   Serial_Number  List_Year Date_Recorded     Town          Address  \\\n",
       " 0        2020177       2020    04/14/2021  Ansonia    323 BEAVER ST   \n",
       " 1        2020225       2020    05/26/2021  Ansonia   152 JACKSON ST   \n",
       " 2        2020348       2020    09/13/2021  Ansonia  230 WAKELEE AVE   \n",
       " 3        2020090       2020    12/14/2020  Ansonia      57 PLATT ST   \n",
       " 4         200500       2020    09/07/2021     Avon     245 NEW ROAD   \n",
       " \n",
       "    Assessed_Value  Sale_Amount  Sales_Ratio Property_Type Residential_Type  \n",
       " 0        133000.0     248400.0       0.5354   Residential    Single Family  \n",
       " 1        110500.0     239900.0       0.4606   Residential     Three Family  \n",
       " 2        150500.0     325000.0       0.4630    Commercial     Desconhecido  \n",
       " 3        127400.0     202500.0       0.6291   Residential       Two Family  \n",
       " 4        217640.0     400000.0       0.5441   Residential    Single Family  ,\n",
       " Serial_Number       0\n",
       " List_Year           0\n",
       " Date_Recorded       0\n",
       " Town                0\n",
       " Address             0\n",
       " Assessed_Value      0\n",
       " Sale_Amount         0\n",
       " Sales_Ratio         0\n",
       " Property_Type       0\n",
       " Residential_Type    0\n",
       " dtype: int64,\n",
       "        Serial_Number     List_Year  Assessed_Value   Sale_Amount   Sales_Ratio\n",
       " count   1.097578e+06  1.097578e+06    1.097578e+06  1.097578e+06  1.097578e+06\n",
       " mean    5.370584e+05  2.011219e+03    2.818110e+05  4.053209e+05  9.604324e+00\n",
       " std     7.526248e+06  6.773461e+00    1.657927e+06  5.143607e+06  1.801706e+03\n",
       " min     2.100000e+01  2.001000e+03    0.000000e+00  0.000000e+00  0.000000e+00\n",
       " 25%     3.071200e+04  2.005000e+03    8.910000e+04  1.450000e+05  4.778919e-01\n",
       " 50%     8.070850e+04  2.011000e+03    1.405900e+05  2.330000e+05  6.105882e-01\n",
       " 75%     1.703420e+05  2.018000e+03    2.282700e+05  3.750000e+05  7.707259e-01\n",
       " max     2.000500e+09  2.022000e+03    8.815100e+08  5.000000e+09  1.226420e+06)"
      ]
     },
     "execution_count": 119,
     "metadata": {},
     "output_type": "execute_result"
    }
   ],
   "source": [
    "stats = data_cleaned.describe()\n",
    "data_cleaned.head(), missing_data_after_cleaning, stats"
   ]
  },
  {
   "cell_type": "code",
   "execution_count": 122,
   "metadata": {},
   "outputs": [
    {
     "data": {
      "text/html": [
       "<div>\n",
       "<style scoped>\n",
       "    .dataframe tbody tr th:only-of-type {\n",
       "        vertical-align: middle;\n",
       "    }\n",
       "\n",
       "    .dataframe tbody tr th {\n",
       "        vertical-align: top;\n",
       "    }\n",
       "\n",
       "    .dataframe thead th {\n",
       "        text-align: right;\n",
       "    }\n",
       "</style>\n",
       "<table border=\"1\" class=\"dataframe\">\n",
       "  <thead>\n",
       "    <tr style=\"text-align: right;\">\n",
       "      <th></th>\n",
       "      <th>Serial_Number</th>\n",
       "      <th>List_Year</th>\n",
       "      <th>Date_Recorded</th>\n",
       "      <th>Town</th>\n",
       "      <th>Address</th>\n",
       "      <th>Assessed_Value</th>\n",
       "      <th>Sale_Amount</th>\n",
       "      <th>Sales_Ratio</th>\n",
       "      <th>Property_Type</th>\n",
       "      <th>Residential_Type</th>\n",
       "      <th>Year_Recorded</th>\n",
       "    </tr>\n",
       "  </thead>\n",
       "  <tbody>\n",
       "    <tr>\n",
       "      <th>0</th>\n",
       "      <td>2020177</td>\n",
       "      <td>2020</td>\n",
       "      <td>2021-04-14</td>\n",
       "      <td>Ansonia</td>\n",
       "      <td>323 BEAVER ST</td>\n",
       "      <td>133000.0</td>\n",
       "      <td>248400.0</td>\n",
       "      <td>0.5354</td>\n",
       "      <td>Residential</td>\n",
       "      <td>Single Family</td>\n",
       "      <td>2021</td>\n",
       "    </tr>\n",
       "    <tr>\n",
       "      <th>1</th>\n",
       "      <td>2020225</td>\n",
       "      <td>2020</td>\n",
       "      <td>2021-05-26</td>\n",
       "      <td>Ansonia</td>\n",
       "      <td>152 JACKSON ST</td>\n",
       "      <td>110500.0</td>\n",
       "      <td>239900.0</td>\n",
       "      <td>0.4606</td>\n",
       "      <td>Residential</td>\n",
       "      <td>Three Family</td>\n",
       "      <td>2021</td>\n",
       "    </tr>\n",
       "    <tr>\n",
       "      <th>2</th>\n",
       "      <td>2020348</td>\n",
       "      <td>2020</td>\n",
       "      <td>2021-09-13</td>\n",
       "      <td>Ansonia</td>\n",
       "      <td>230 WAKELEE AVE</td>\n",
       "      <td>150500.0</td>\n",
       "      <td>325000.0</td>\n",
       "      <td>0.4630</td>\n",
       "      <td>Commercial</td>\n",
       "      <td>Desconhecido</td>\n",
       "      <td>2021</td>\n",
       "    </tr>\n",
       "    <tr>\n",
       "      <th>3</th>\n",
       "      <td>2020090</td>\n",
       "      <td>2020</td>\n",
       "      <td>2020-12-14</td>\n",
       "      <td>Ansonia</td>\n",
       "      <td>57 PLATT ST</td>\n",
       "      <td>127400.0</td>\n",
       "      <td>202500.0</td>\n",
       "      <td>0.6291</td>\n",
       "      <td>Residential</td>\n",
       "      <td>Two Family</td>\n",
       "      <td>2020</td>\n",
       "    </tr>\n",
       "    <tr>\n",
       "      <th>4</th>\n",
       "      <td>200500</td>\n",
       "      <td>2020</td>\n",
       "      <td>2021-09-07</td>\n",
       "      <td>Avon</td>\n",
       "      <td>245 NEW ROAD</td>\n",
       "      <td>217640.0</td>\n",
       "      <td>400000.0</td>\n",
       "      <td>0.5441</td>\n",
       "      <td>Residential</td>\n",
       "      <td>Single Family</td>\n",
       "      <td>2021</td>\n",
       "    </tr>\n",
       "    <tr>\n",
       "      <th>...</th>\n",
       "      <td>...</td>\n",
       "      <td>...</td>\n",
       "      <td>...</td>\n",
       "      <td>...</td>\n",
       "      <td>...</td>\n",
       "      <td>...</td>\n",
       "      <td>...</td>\n",
       "      <td>...</td>\n",
       "      <td>...</td>\n",
       "      <td>...</td>\n",
       "      <td>...</td>\n",
       "    </tr>\n",
       "    <tr>\n",
       "      <th>1097624</th>\n",
       "      <td>2200073</td>\n",
       "      <td>2022</td>\n",
       "      <td>2022-10-11</td>\n",
       "      <td>Stamford</td>\n",
       "      <td>193 SADDLE HILL ROAD</td>\n",
       "      <td>483380.0</td>\n",
       "      <td>865000.0</td>\n",
       "      <td>0.5588</td>\n",
       "      <td>Residential</td>\n",
       "      <td>Single Family</td>\n",
       "      <td>2022</td>\n",
       "    </tr>\n",
       "    <tr>\n",
       "      <th>1097625</th>\n",
       "      <td>220369</td>\n",
       "      <td>2022</td>\n",
       "      <td>2023-09-29</td>\n",
       "      <td>Wethersfield</td>\n",
       "      <td>37 LUCA LN</td>\n",
       "      <td>20650.0</td>\n",
       "      <td>760857.0</td>\n",
       "      <td>0.0271</td>\n",
       "      <td>Residential</td>\n",
       "      <td>Single Family</td>\n",
       "      <td>2023</td>\n",
       "    </tr>\n",
       "    <tr>\n",
       "      <th>1097626</th>\n",
       "      <td>2200470</td>\n",
       "      <td>2022</td>\n",
       "      <td>2023-01-09</td>\n",
       "      <td>Stamford</td>\n",
       "      <td>1096 EAST MAIN STREET #16-D-1</td>\n",
       "      <td>132900.0</td>\n",
       "      <td>220000.0</td>\n",
       "      <td>0.6040</td>\n",
       "      <td>Residential</td>\n",
       "      <td>Condo</td>\n",
       "      <td>2023</td>\n",
       "    </tr>\n",
       "    <tr>\n",
       "      <th>1097627</th>\n",
       "      <td>22396</td>\n",
       "      <td>2022</td>\n",
       "      <td>2023-09-26</td>\n",
       "      <td>Old Saybrook</td>\n",
       "      <td>115 SHEFFIELD ST</td>\n",
       "      <td>1099400.0</td>\n",
       "      <td>1575000.0</td>\n",
       "      <td>0.6980</td>\n",
       "      <td>Residential</td>\n",
       "      <td>Single Family</td>\n",
       "      <td>2023</td>\n",
       "    </tr>\n",
       "    <tr>\n",
       "      <th>1097628</th>\n",
       "      <td>220890</td>\n",
       "      <td>2022</td>\n",
       "      <td>2023-05-18</td>\n",
       "      <td>Southington</td>\n",
       "      <td>32 SOUTHINGTON AV</td>\n",
       "      <td>135860.0</td>\n",
       "      <td>330000.0</td>\n",
       "      <td>0.4117</td>\n",
       "      <td>Residential</td>\n",
       "      <td>Single Family</td>\n",
       "      <td>2023</td>\n",
       "    </tr>\n",
       "  </tbody>\n",
       "</table>\n",
       "<p>1097578 rows × 11 columns</p>\n",
       "</div>"
      ],
      "text/plain": [
       "         Serial_Number  List_Year Date_Recorded          Town  \\\n",
       "0              2020177       2020    2021-04-14       Ansonia   \n",
       "1              2020225       2020    2021-05-26       Ansonia   \n",
       "2              2020348       2020    2021-09-13       Ansonia   \n",
       "3              2020090       2020    2020-12-14       Ansonia   \n",
       "4               200500       2020    2021-09-07          Avon   \n",
       "...                ...        ...           ...           ...   \n",
       "1097624        2200073       2022    2022-10-11      Stamford   \n",
       "1097625         220369       2022    2023-09-29  Wethersfield   \n",
       "1097626        2200470       2022    2023-01-09      Stamford   \n",
       "1097627          22396       2022    2023-09-26  Old Saybrook   \n",
       "1097628         220890       2022    2023-05-18   Southington   \n",
       "\n",
       "                               Address  Assessed_Value  Sale_Amount  \\\n",
       "0                        323 BEAVER ST        133000.0     248400.0   \n",
       "1                       152 JACKSON ST        110500.0     239900.0   \n",
       "2                      230 WAKELEE AVE        150500.0     325000.0   \n",
       "3                          57 PLATT ST        127400.0     202500.0   \n",
       "4                         245 NEW ROAD        217640.0     400000.0   \n",
       "...                                ...             ...          ...   \n",
       "1097624           193 SADDLE HILL ROAD        483380.0     865000.0   \n",
       "1097625                     37 LUCA LN         20650.0     760857.0   \n",
       "1097626  1096 EAST MAIN STREET #16-D-1        132900.0     220000.0   \n",
       "1097627               115 SHEFFIELD ST       1099400.0    1575000.0   \n",
       "1097628              32 SOUTHINGTON AV        135860.0     330000.0   \n",
       "\n",
       "         Sales_Ratio Property_Type Residential_Type  Year_Recorded  \n",
       "0             0.5354   Residential    Single Family           2021  \n",
       "1             0.4606   Residential     Three Family           2021  \n",
       "2             0.4630    Commercial     Desconhecido           2021  \n",
       "3             0.6291   Residential       Two Family           2020  \n",
       "4             0.5441   Residential    Single Family           2021  \n",
       "...              ...           ...              ...            ...  \n",
       "1097624       0.5588   Residential    Single Family           2022  \n",
       "1097625       0.0271   Residential    Single Family           2023  \n",
       "1097626       0.6040   Residential            Condo           2023  \n",
       "1097627       0.6980   Residential    Single Family           2023  \n",
       "1097628       0.4117   Residential    Single Family           2023  \n",
       "\n",
       "[1097578 rows x 11 columns]"
      ]
     },
     "execution_count": 122,
     "metadata": {},
     "output_type": "execute_result"
    }
   ],
   "source": [
    "# Converter a coluna Date_Recorded para datetime e extrair o ano\n",
    "data_cleaned[\"Date_Recorded\"] = pd.to_datetime(data_cleaned[\"Date_Recorded\"], errors=\"coerce\")\n",
    "data_cleaned[\"Year_Recorded\"] = data_cleaned[\"Date_Recorded\"].dt.year\n",
    "# Mostrar as mudanças no ano\n",
    "data_cleaned"
   ]
  },
  {
   "cell_type": "code",
   "execution_count": 126,
   "metadata": {},
   "outputs": [],
   "source": [
    "# Pergunta 1: Tendência anual no número de vendas\n",
    "annual_sales = data_cleaned[\"Year_Recorded\"].value_counts().sort_index()"
   ]
  },
  {
   "cell_type": "code",
   "execution_count": 142,
   "metadata": {},
   "outputs": [
    {
     "data": {
      "text/plain": [
       "Text(0, 0.5, 'Número de Vendas')"
      ]
     },
     "execution_count": 142,
     "metadata": {},
     "output_type": "execute_result"
    },
    {
     "data": {
      "image/png": "[encoded data removed]",
      "text/plain": [
       "<Figure size 1600x1000 with 1 Axes>"
      ]
     },
     "metadata": {},
     "output_type": "display_data"
    }
   ],
   "source": [
    "# Gráfico 1: Tendência anual no número de vendas\n",
    "plt.figure(figsize=(16, 10))\n",
    "plt.subplot(2, 2, 1)\n",
    "annual_sales.plot(kind=\"line\", marker=\"o\", color=\"teal\")\n",
    "plt.title(\"Tendência Anual no Número de Vendas\")\n",
    "plt.xlabel(\"Ano\")\n",
    "plt.ylabel(\"Número de Vendas\")"
   ]
  },
  {
   "cell_type": "code",
   "execution_count": 135,
   "metadata": {},
   "outputs": [],
   "source": [
    "# Pergunta 2: Cidades com maiores valores médios de venda\n",
    "city_avg_sale = data_cleaned.groupby(\"Town\")[\"Sale_Amount\"].mean().sort_values(ascending=False).head(10)"
   ]
  },
  {
   "cell_type": "code",
   "execution_count": 143,
   "metadata": {},
   "outputs": [
    {
     "data": {
      "text/plain": [
       "Text(0, 0.5, 'Valor Médio de Venda')"
      ]
     },
     "execution_count": 143,
     "metadata": {},
     "output_type": "execute_result"
    },
    {
     "data": {
      "image/png": "[encoded data removed]",
      "text/plain": [
       "<Figure size 1600x1000 with 1 Axes>"
      ]
     },
     "metadata": {},
     "output_type": "display_data"
    }
   ],
   "source": [
    "# Gráfico 2: Cidades com maiores valores médios de venda\n",
    "plt.figure(figsize=(16, 10))\n",
    "plt.subplot(2, 2, 2)\n",
    "city_avg_sale.plot(kind=\"bar\", color=\"coral\")\n",
    "plt.title(\"Cidades com Maiores Valores Médios de Venda\")\n",
    "plt.xlabel(\"Cidade\")\n",
    "plt.ylabel(\"Valor Médio de Venda\")"
   ]
  },
  {
   "cell_type": "code",
   "execution_count": 140,
   "metadata": {},
   "outputs": [],
   "source": [
    "# Pergunta 3: Valores de venda por tipo de propriedade\n",
    "property_avg_sale = data_cleaned.groupby(\"Property_Type\")[\"Sale_Amount\"].mean()"
   ]
  },
  {
   "cell_type": "code",
   "execution_count": 147,
   "metadata": {},
   "outputs": [
    {
     "data": {
      "text/plain": [
       "Text(0, 0.5, 'Valor Médio de Venda')"
      ]
     },
     "execution_count": 147,
     "metadata": {},
     "output_type": "execute_result"
    },
    {
     "data": {
      "image/png": "[encoded data removed]",
      "text/plain": [
       "<Figure size 1600x1000 with 1 Axes>"
      ]
     },
     "metadata": {},
     "output_type": "display_data"
    }
   ],
   "source": [
    "# Gráfico 3: Valores de venda por tipo de propriedade\n",
    "plt.figure(figsize=(16, 10))\n",
    "plt.subplot(2, 2, 3)\n",
    "property_avg_sale.plot(kind=\"bar\", color=\"slateblue\")\n",
    "plt.title(\"Valores Médios de Venda por Tipo de Propriedade\")\n",
    "plt.xlabel(\"Tipo de Propriedade\")\n",
    "plt.ylabel(\"Valor Médio de Venda\")"
   ]
  },
  {
   "cell_type": "code",
   "execution_count": 149,
   "metadata": {},
   "outputs": [],
   "source": [
    "# Pergunta 4: Relação entre valores avaliados e valores de venda\n",
    "# (Usar uma amostra para visualização mais limpa)\n",
    "scatter_sample = data_cleaned.sample(5000, random_state=42)"
   ]
  },
  {
   "cell_type": "code",
   "execution_count": 152,
   "metadata": {},
   "outputs": [
    {
     "data": {
      "text/plain": [
       "Text(0, 0.5, 'Valor de Venda')"
      ]
     },
     "execution_count": 152,
     "metadata": {},
     "output_type": "execute_result"
    },
    {
     "data": {
      "image/png": "[encoded data removed]",
      "text/plain": [
       "<Figure size 1600x1000 with 1 Axes>"
      ]
     },
     "metadata": {},
     "output_type": "display_data"
    }
   ],
   "source": [
    "# Gráfico 4: Relação entre valores avaliados e de venda\n",
    "plt.figure(figsize=(16, 10))\n",
    "plt.subplot(2, 2, 4)\n",
    "sns.scatterplot(data=scatter_sample, x=\"Assessed_Value\", y=\"Sale_Amount\", alpha=0.5, color=\"darkgreen\")\n",
    "plt.title(\"Relação entre Valor Avaliado e Valor de Venda\")\n",
    "plt.xlabel(\"Valor Avaliado\")\n",
    "plt.ylabel(\"Valor de Venda\")"
   ]
  },
  {
   "cell_type": "code",
   "execution_count": 156,
   "metadata": {},
   "outputs": [],
   "source": [
    "# Atualizando o arquivo CSV com o tratamento de dados\n",
    "data_cleaned.to_csv('Real_Estate_Sales_2001-2022_GL.csv.', \n",
    "          index=False,           # Não salvar o índice\n",
    "          sep=',',               # Separador de colunas (padrão é vírgula)\n",
    "          encoding='utf-8')      # Especificar a codificação"
   ]
  },
  {
   "cell_type": "code",
   "execution_count": 159,
   "metadata": {},
   "outputs": [
    {
     "name": "stdout",
     "output_type": "stream",
     "text": [
      "<class 'pandas.core.frame.DataFrame'>\n",
      "Index: 1097578 entries, 0 to 1097628\n",
      "Data columns (total 11 columns):\n",
      " #   Column            Non-Null Count    Dtype         \n",
      "---  ------            --------------    -----         \n",
      " 0   Serial_Number     1097578 non-null  int64         \n",
      " 1   List_Year         1097578 non-null  int64         \n",
      " 2   Date_Recorded     1097578 non-null  datetime64[ns]\n",
      " 3   Town              1097578 non-null  object        \n",
      " 4   Address           1097578 non-null  object        \n",
      " 5   Assessed_Value    1097578 non-null  float64       \n",
      " 6   Sale_Amount       1097578 non-null  float64       \n",
      " 7   Sales_Ratio       1097578 non-null  float64       \n",
      " 8   Property_Type     1097578 non-null  object        \n",
      " 9   Residential_Type  1097578 non-null  object        \n",
      " 10  Year_Recorded     1097578 non-null  int32         \n",
      "dtypes: datetime64[ns](1), float64(3), int32(1), int64(2), object(4)\n",
      "memory usage: 96.3+ MB\n"
     ]
    }
   ],
   "source": [
    "data_cleaned.info()"
   ]
  },
  {
   "cell_type": "code",
   "execution_count": 160,
   "metadata": {},
   "outputs": [
    {
     "data": {
      "text/html": [
       "<div>\n",
       "<style scoped>\n",
       "    .dataframe tbody tr th:only-of-type {\n",
       "        vertical-align: middle;\n",
       "    }\n",
       "\n",
       "    .dataframe tbody tr th {\n",
       "        vertical-align: top;\n",
       "    }\n",
       "\n",
       "    .dataframe thead th {\n",
       "        text-align: right;\n",
       "    }\n",
       "</style>\n",
       "<table border=\"1\" class=\"dataframe\">\n",
       "  <thead>\n",
       "    <tr style=\"text-align: right;\">\n",
       "      <th></th>\n",
       "      <th>Serial_Number</th>\n",
       "      <th>List_Year</th>\n",
       "      <th>Date_Recorded</th>\n",
       "      <th>Town</th>\n",
       "      <th>Address</th>\n",
       "      <th>Assessed_Value</th>\n",
       "      <th>Sale_Amount</th>\n",
       "      <th>Sales_Ratio</th>\n",
       "      <th>Property_Type</th>\n",
       "      <th>Residential_Type</th>\n",
       "      <th>Year_Recorded</th>\n",
       "    </tr>\n",
       "  </thead>\n",
       "  <tbody>\n",
       "    <tr>\n",
       "      <th>0</th>\n",
       "      <td>2020177</td>\n",
       "      <td>2020</td>\n",
       "      <td>2021-04-14</td>\n",
       "      <td>Ansonia</td>\n",
       "      <td>323 BEAVER ST</td>\n",
       "      <td>133000.0</td>\n",
       "      <td>248400.0</td>\n",
       "      <td>0.5354</td>\n",
       "      <td>Residential</td>\n",
       "      <td>Single Family</td>\n",
       "      <td>2021</td>\n",
       "    </tr>\n",
       "    <tr>\n",
       "      <th>1</th>\n",
       "      <td>2020225</td>\n",
       "      <td>2020</td>\n",
       "      <td>2021-05-26</td>\n",
       "      <td>Ansonia</td>\n",
       "      <td>152 JACKSON ST</td>\n",
       "      <td>110500.0</td>\n",
       "      <td>239900.0</td>\n",
       "      <td>0.4606</td>\n",
       "      <td>Residential</td>\n",
       "      <td>Three Family</td>\n",
       "      <td>2021</td>\n",
       "    </tr>\n",
       "    <tr>\n",
       "      <th>2</th>\n",
       "      <td>2020348</td>\n",
       "      <td>2020</td>\n",
       "      <td>2021-09-13</td>\n",
       "      <td>Ansonia</td>\n",
       "      <td>230 WAKELEE AVE</td>\n",
       "      <td>150500.0</td>\n",
       "      <td>325000.0</td>\n",
       "      <td>0.4630</td>\n",
       "      <td>Commercial</td>\n",
       "      <td>Desconhecido</td>\n",
       "      <td>2021</td>\n",
       "    </tr>\n",
       "    <tr>\n",
       "      <th>3</th>\n",
       "      <td>2020090</td>\n",
       "      <td>2020</td>\n",
       "      <td>2020-12-14</td>\n",
       "      <td>Ansonia</td>\n",
       "      <td>57 PLATT ST</td>\n",
       "      <td>127400.0</td>\n",
       "      <td>202500.0</td>\n",
       "      <td>0.6291</td>\n",
       "      <td>Residential</td>\n",
       "      <td>Two Family</td>\n",
       "      <td>2020</td>\n",
       "    </tr>\n",
       "    <tr>\n",
       "      <th>4</th>\n",
       "      <td>200500</td>\n",
       "      <td>2020</td>\n",
       "      <td>2021-09-07</td>\n",
       "      <td>Avon</td>\n",
       "      <td>245 NEW ROAD</td>\n",
       "      <td>217640.0</td>\n",
       "      <td>400000.0</td>\n",
       "      <td>0.5441</td>\n",
       "      <td>Residential</td>\n",
       "      <td>Single Family</td>\n",
       "      <td>2021</td>\n",
       "    </tr>\n",
       "  </tbody>\n",
       "</table>\n",
       "</div>"
      ],
      "text/plain": [
       "   Serial_Number  List_Year Date_Recorded     Town          Address  \\\n",
       "0        2020177       2020    2021-04-14  Ansonia    323 BEAVER ST   \n",
       "1        2020225       2020    2021-05-26  Ansonia   152 JACKSON ST   \n",
       "2        2020348       2020    2021-09-13  Ansonia  230 WAKELEE AVE   \n",
       "3        2020090       2020    2020-12-14  Ansonia      57 PLATT ST   \n",
       "4         200500       2020    2021-09-07     Avon     245 NEW ROAD   \n",
       "\n",
       "   Assessed_Value  Sale_Amount  Sales_Ratio Property_Type Residential_Type  \\\n",
       "0        133000.0     248400.0       0.5354   Residential    Single Family   \n",
       "1        110500.0     239900.0       0.4606   Residential     Three Family   \n",
       "2        150500.0     325000.0       0.4630    Commercial     Desconhecido   \n",
       "3        127400.0     202500.0       0.6291   Residential       Two Family   \n",
       "4        217640.0     400000.0       0.5441   Residential    Single Family   \n",
       "\n",
       "   Year_Recorded  \n",
       "0           2021  \n",
       "1           2021  \n",
       "2           2021  \n",
       "3           2020  \n",
       "4           2021  "
      ]
     },
     "execution_count": 160,
     "metadata": {},
     "output_type": "execute_result"
    }
   ],
   "source": [
    "data_cleaned.head()"
   ]
  }
 ],
 "metadata": {
  "kernelspec": {
   "display_name": "ds",
   "language": "python",
   "name": "python3"
  },
  "language_info": {
   "codemirror_mode": {
    "name": "ipython",
    "version": 3
   },
   "file_extension": ".py",
   "mimetype": "text/x-python",
   "name": "python",
   "nbconvert_exporter": "python",
   "pygments_lexer": "ipython3",
   "version": "3.9.20"
  }
 },
 "nbformat": 4,
 "nbformat_minor": 2
}
