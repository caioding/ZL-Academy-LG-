{
 "cells": [
  {
   "cell_type": "code",
   "execution_count": 1,
   "metadata": {},
   "outputs": [
    {
     "name": "stdout",
     "output_type": "stream",
     "text": [
      "Treino - MAE: 100.75118939181546, MSE: 14769.540190536403, R2: 0.8226243254340891\n",
      "Teste - MAE: 257.0404050779762, MSE: 97858.01557528839, R2: -0.14204325399024764\n",
      "Validação cruzada - R2: -0.13874055002025099\n"
     ]
    }
   ],
   "source": [
    "import pandas as pd\n",
    "import numpy as np\n",
    "from sklearn.model_selection import train_test_split, cross_val_score\n",
    "from sklearn.linear_model import LinearRegression, Ridge\n",
    "from sklearn.ensemble import RandomForestRegressor\n",
    "from sklearn.metrics import mean_absolute_error, mean_squared_error, r2_score\n",
    "from sklearn.preprocessing import OneHotEncoder, StandardScaler\n",
    "from sklearn.pipeline import Pipeline\n",
    "from sklearn.compose import ColumnTransformer\n",
    "\n",
    "# Carregar os dados\n",
    "data = pd.read_csv('./datasets/defects_data.csv', encoding='latin1')\n",
    "\n",
    "# Selecionar características e alvo\n",
    "features = ['defect_type', 'defect_location', 'severity', 'inspection_method', 'product_id']\n",
    "target = 'repair_cost'\n",
    "\n",
    "# Dividir os dados em características (X) e alvo (y)\n",
    "X = data[features]\n",
    "y = data[target]\n",
    "\n",
    "# Pré-processamento\n",
    "# Codificar variáveis categóricas e normalizar variáveis numéricas\n",
    "categorical_features = ['defect_type', 'defect_location', 'severity', 'inspection_method']\n",
    "numerical_features = ['product_id']\n",
    "\n",
    "preprocessor = ColumnTransformer(\n",
    "    transformers=[\n",
    "        ('cat', OneHotEncoder(), categorical_features),\n",
    "        ('num', StandardScaler(), numerical_features)\n",
    "    ])\n",
    "\n",
    "# Criar pipeline com pré-processador e modelo de Random Forest\n",
    "pipeline = Pipeline(steps=[('preprocessor', preprocessor),\n",
    "                           ('regressor', RandomForestRegressor(n_estimators=100, random_state=42))])\n",
    "\n",
    "# Dividir os dados em conjuntos de treino e teste\n",
    "train_x, test_x, train_y, test_y = train_test_split(X, y, test_size=0.2, random_state=42)\n",
    "\n",
    "# Treinar o modelo de Random Forest\n",
    "pipeline.fit(train_x, train_y)\n",
    "\n",
    "# Previsões\n",
    "train_pred = pipeline.predict(train_x)\n",
    "test_pred = pipeline.predict(test_x)\n",
    "\n",
    "# Avaliar o modelo\n",
    "train_mae = mean_absolute_error(train_y, train_pred)\n",
    "test_mae = mean_absolute_error(test_y, test_pred)\n",
    "train_mse = mean_squared_error(train_y, train_pred)\n",
    "test_mse = mean_squared_error(test_y, test_pred)\n",
    "train_r2 = r2_score(train_y, train_pred)\n",
    "test_r2 = r2_score(test_y, test_pred)\n",
    "\n",
    "# Mostrar os resultados\n",
    "print(f'Treino - MAE: {train_mae}, MSE: {train_mse}, R2: {train_r2}')\n",
    "print(f'Teste - MAE: {test_mae}, MSE: {test_mse}, R2: {test_r2}')\n",
    "\n",
    "# Validação cruzada\n",
    "cv_scores = cross_val_score(pipeline, X, y, cv=5, scoring='r2')\n",
    "print(f'Validação cruzada - R2: {cv_scores.mean()}')"
   ]
  }
 ],
 "metadata": {
  "kernelspec": {
   "display_name": "ds",
   "language": "python",
   "name": "python3"
  },
  "language_info": {
   "codemirror_mode": {
    "name": "ipython",
    "version": 3
   },
   "file_extension": ".py",
   "mimetype": "text/x-python",
   "name": "python",
   "nbconvert_exporter": "python",
   "pygments_lexer": "ipython3",
   "version": "3.9.20"
  }
 },
 "nbformat": 4,
 "nbformat_minor": 2
}
